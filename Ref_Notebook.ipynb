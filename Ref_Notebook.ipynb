{
  "nbformat": 4,
  "nbformat_minor": 0,
  "metadata": {
    "colab": {
      "provenance": [],
      "include_colab_link": true
    },
    "kernelspec": {
      "name": "python3",
      "display_name": "Python 3"
    },
    "language_info": {
      "name": "python"
    },
    "gpuClass": "standard"
  },
  "cells": [
    {
      "cell_type": "markdown",
      "metadata": {
        "id": "view-in-github",
        "colab_type": "text"
      },
      "source": [
        "<a href=\"https://colab.research.google.com/github/akashkamal2404/Enhancing-the-Accuracy-of-Predicting-Corporate-Restaurant-s-Sales/blob/main/Ref_Notebook.ipynb\" target=\"_parent\"><img src=\"https://colab.research.google.com/assets/colab-badge.svg\" alt=\"Open In Colab\"/></a>"
      ]
    },
    {
      "cell_type": "code",
      "source": [
        "!rm -rf /content/*\n",
        "!pip install --upgrade --no-cache-dir gdown\n",
        "!gdown https://drive.google.com/uc?id=1PuN2hRzB6nJL1o1ca2O1yLp6SDHVMR9c\n",
        "!unzip /content/restaurant-revenue-prediction.zip\n",
        "!rm -rf /content/restaurant-revenue-prediction.zip\n",
        "!unzip /content/train.csv.zip"
      ],
      "metadata": {
        "colab": {
          "base_uri": "https://localhost:8080/"
        },
        "id": "bnvpQRf3ZkfF",
        "outputId": "1a89f6f5-f077-43e5-b19e-30589b865e82"
      },
      "execution_count": null,
      "outputs": [
        {
          "output_type": "stream",
          "name": "stdout",
          "text": [
            "Looking in indexes: https://pypi.org/simple, https://us-python.pkg.dev/colab-wheels/public/simple/\n",
            "Requirement already satisfied: gdown in /usr/local/lib/python3.8/dist-packages (4.6.0)\n",
            "Requirement already satisfied: tqdm in /usr/local/lib/python3.8/dist-packages (from gdown) (4.64.1)\n",
            "Requirement already satisfied: filelock in /usr/local/lib/python3.8/dist-packages (from gdown) (3.8.0)\n",
            "Requirement already satisfied: beautifulsoup4 in /usr/local/lib/python3.8/dist-packages (from gdown) (4.6.3)\n",
            "Requirement already satisfied: six in /usr/local/lib/python3.8/dist-packages (from gdown) (1.15.0)\n",
            "Requirement already satisfied: requests[socks] in /usr/local/lib/python3.8/dist-packages (from gdown) (2.23.0)\n",
            "Requirement already satisfied: certifi>=2017.4.17 in /usr/local/lib/python3.8/dist-packages (from requests[socks]->gdown) (2022.9.24)\n",
            "Requirement already satisfied: chardet<4,>=3.0.2 in /usr/local/lib/python3.8/dist-packages (from requests[socks]->gdown) (3.0.4)\n",
            "Requirement already satisfied: urllib3!=1.25.0,!=1.25.1,<1.26,>=1.21.1 in /usr/local/lib/python3.8/dist-packages (from requests[socks]->gdown) (1.24.3)\n",
            "Requirement already satisfied: idna<3,>=2.5 in /usr/local/lib/python3.8/dist-packages (from requests[socks]->gdown) (2.10)\n",
            "Requirement already satisfied: PySocks!=1.5.7,>=1.5.6 in /usr/local/lib/python3.8/dist-packages (from requests[socks]->gdown) (1.7.1)\n",
            "Downloading...\n",
            "From: https://drive.google.com/uc?id=1PuN2hRzB6nJL1o1ca2O1yLp6SDHVMR9c\n",
            "To: /content/restaurant-revenue-prediction.zip\n",
            "100% 2.81M/2.81M [00:00<00:00, 200MB/s]\n",
            "Archive:  /content/restaurant-revenue-prediction.zip\n",
            "  inflating: sampleSubmission.csv    \n",
            "  inflating: test.csv.zip            \n",
            "  inflating: train.csv.zip           \n",
            "Archive:  /content/train.csv.zip\n",
            "  inflating: train.csv               \n"
          ]
        }
      ]
    },
    {
      "cell_type": "code",
      "source": [
        "import pandas as pd\n",
        "import numpy as np\n",
        "import warnings\n",
        "warnings.filterwarnings(\"ignore\")\n",
        "\n",
        "df = pd.read_csv('/content/train.csv')\n",
        "df.head()"
      ],
      "metadata": {
        "colab": {
          "base_uri": "https://localhost:8080/",
          "height": 352
        },
        "id": "nQ1Qj-psZTMy",
        "outputId": "16db22ea-4e92-4349-8206-f0824986bfec"
      },
      "execution_count": null,
      "outputs": [
        {
          "output_type": "execute_result",
          "data": {
            "text/plain": [
              "   Id   Open Date        City  City Group Type  P1   P2   P3   P4  P5  ...  \\\n",
              "0   0  07/17/1999    İstanbul  Big Cities   IL   4  5.0  4.0  4.0   2  ...   \n",
              "1   1  02/14/2008      Ankara  Big Cities   FC   4  5.0  4.0  4.0   1  ...   \n",
              "2   2  03/09/2013  Diyarbakır       Other   IL   2  4.0  2.0  5.0   2  ...   \n",
              "3   3  02/02/2012       Tokat       Other   IL   6  4.5  6.0  6.0   4  ...   \n",
              "4   4  05/09/2009   Gaziantep       Other   IL   3  4.0  3.0  4.0   2  ...   \n",
              "\n",
              "   P29  P30  P31  P32  P33  P34  P35  P36  P37    revenue  \n",
              "0  3.0    5    3    4    5    5    4    3    4  5653753.0  \n",
              "1  3.0    0    0    0    0    0    0    0    0  6923131.0  \n",
              "2  3.0    0    0    0    0    0    0    0    0  2055379.0  \n",
              "3  7.5   25   12   10    6   18   12   12    6  2675511.0  \n",
              "4  3.0    5    1    3    2    3    4    3    3  4316715.0  \n",
              "\n",
              "[5 rows x 43 columns]"
            ],
            "text/html": [
              "\n",
              "  <div id=\"df-991dc338-c0dc-47f2-b805-a6cf9cd7162a\">\n",
              "    <div class=\"colab-df-container\">\n",
              "      <div>\n",
              "<style scoped>\n",
              "    .dataframe tbody tr th:only-of-type {\n",
              "        vertical-align: middle;\n",
              "    }\n",
              "\n",
              "    .dataframe tbody tr th {\n",
              "        vertical-align: top;\n",
              "    }\n",
              "\n",
              "    .dataframe thead th {\n",
              "        text-align: right;\n",
              "    }\n",
              "</style>\n",
              "<table border=\"1\" class=\"dataframe\">\n",
              "  <thead>\n",
              "    <tr style=\"text-align: right;\">\n",
              "      <th></th>\n",
              "      <th>Id</th>\n",
              "      <th>Open Date</th>\n",
              "      <th>City</th>\n",
              "      <th>City Group</th>\n",
              "      <th>Type</th>\n",
              "      <th>P1</th>\n",
              "      <th>P2</th>\n",
              "      <th>P3</th>\n",
              "      <th>P4</th>\n",
              "      <th>P5</th>\n",
              "      <th>...</th>\n",
              "      <th>P29</th>\n",
              "      <th>P30</th>\n",
              "      <th>P31</th>\n",
              "      <th>P32</th>\n",
              "      <th>P33</th>\n",
              "      <th>P34</th>\n",
              "      <th>P35</th>\n",
              "      <th>P36</th>\n",
              "      <th>P37</th>\n",
              "      <th>revenue</th>\n",
              "    </tr>\n",
              "  </thead>\n",
              "  <tbody>\n",
              "    <tr>\n",
              "      <th>0</th>\n",
              "      <td>0</td>\n",
              "      <td>07/17/1999</td>\n",
              "      <td>İstanbul</td>\n",
              "      <td>Big Cities</td>\n",
              "      <td>IL</td>\n",
              "      <td>4</td>\n",
              "      <td>5.0</td>\n",
              "      <td>4.0</td>\n",
              "      <td>4.0</td>\n",
              "      <td>2</td>\n",
              "      <td>...</td>\n",
              "      <td>3.0</td>\n",
              "      <td>5</td>\n",
              "      <td>3</td>\n",
              "      <td>4</td>\n",
              "      <td>5</td>\n",
              "      <td>5</td>\n",
              "      <td>4</td>\n",
              "      <td>3</td>\n",
              "      <td>4</td>\n",
              "      <td>5653753.0</td>\n",
              "    </tr>\n",
              "    <tr>\n",
              "      <th>1</th>\n",
              "      <td>1</td>\n",
              "      <td>02/14/2008</td>\n",
              "      <td>Ankara</td>\n",
              "      <td>Big Cities</td>\n",
              "      <td>FC</td>\n",
              "      <td>4</td>\n",
              "      <td>5.0</td>\n",
              "      <td>4.0</td>\n",
              "      <td>4.0</td>\n",
              "      <td>1</td>\n",
              "      <td>...</td>\n",
              "      <td>3.0</td>\n",
              "      <td>0</td>\n",
              "      <td>0</td>\n",
              "      <td>0</td>\n",
              "      <td>0</td>\n",
              "      <td>0</td>\n",
              "      <td>0</td>\n",
              "      <td>0</td>\n",
              "      <td>0</td>\n",
              "      <td>6923131.0</td>\n",
              "    </tr>\n",
              "    <tr>\n",
              "      <th>2</th>\n",
              "      <td>2</td>\n",
              "      <td>03/09/2013</td>\n",
              "      <td>Diyarbakır</td>\n",
              "      <td>Other</td>\n",
              "      <td>IL</td>\n",
              "      <td>2</td>\n",
              "      <td>4.0</td>\n",
              "      <td>2.0</td>\n",
              "      <td>5.0</td>\n",
              "      <td>2</td>\n",
              "      <td>...</td>\n",
              "      <td>3.0</td>\n",
              "      <td>0</td>\n",
              "      <td>0</td>\n",
              "      <td>0</td>\n",
              "      <td>0</td>\n",
              "      <td>0</td>\n",
              "      <td>0</td>\n",
              "      <td>0</td>\n",
              "      <td>0</td>\n",
              "      <td>2055379.0</td>\n",
              "    </tr>\n",
              "    <tr>\n",
              "      <th>3</th>\n",
              "      <td>3</td>\n",
              "      <td>02/02/2012</td>\n",
              "      <td>Tokat</td>\n",
              "      <td>Other</td>\n",
              "      <td>IL</td>\n",
              "      <td>6</td>\n",
              "      <td>4.5</td>\n",
              "      <td>6.0</td>\n",
              "      <td>6.0</td>\n",
              "      <td>4</td>\n",
              "      <td>...</td>\n",
              "      <td>7.5</td>\n",
              "      <td>25</td>\n",
              "      <td>12</td>\n",
              "      <td>10</td>\n",
              "      <td>6</td>\n",
              "      <td>18</td>\n",
              "      <td>12</td>\n",
              "      <td>12</td>\n",
              "      <td>6</td>\n",
              "      <td>2675511.0</td>\n",
              "    </tr>\n",
              "    <tr>\n",
              "      <th>4</th>\n",
              "      <td>4</td>\n",
              "      <td>05/09/2009</td>\n",
              "      <td>Gaziantep</td>\n",
              "      <td>Other</td>\n",
              "      <td>IL</td>\n",
              "      <td>3</td>\n",
              "      <td>4.0</td>\n",
              "      <td>3.0</td>\n",
              "      <td>4.0</td>\n",
              "      <td>2</td>\n",
              "      <td>...</td>\n",
              "      <td>3.0</td>\n",
              "      <td>5</td>\n",
              "      <td>1</td>\n",
              "      <td>3</td>\n",
              "      <td>2</td>\n",
              "      <td>3</td>\n",
              "      <td>4</td>\n",
              "      <td>3</td>\n",
              "      <td>3</td>\n",
              "      <td>4316715.0</td>\n",
              "    </tr>\n",
              "  </tbody>\n",
              "</table>\n",
              "<p>5 rows × 43 columns</p>\n",
              "</div>\n",
              "      <button class=\"colab-df-convert\" onclick=\"convertToInteractive('df-991dc338-c0dc-47f2-b805-a6cf9cd7162a')\"\n",
              "              title=\"Convert this dataframe to an interactive table.\"\n",
              "              style=\"display:none;\">\n",
              "        \n",
              "  <svg xmlns=\"http://www.w3.org/2000/svg\" height=\"24px\"viewBox=\"0 0 24 24\"\n",
              "       width=\"24px\">\n",
              "    <path d=\"M0 0h24v24H0V0z\" fill=\"none\"/>\n",
              "    <path d=\"M18.56 5.44l.94 2.06.94-2.06 2.06-.94-2.06-.94-.94-2.06-.94 2.06-2.06.94zm-11 1L8.5 8.5l.94-2.06 2.06-.94-2.06-.94L8.5 2.5l-.94 2.06-2.06.94zm10 10l.94 2.06.94-2.06 2.06-.94-2.06-.94-.94-2.06-.94 2.06-2.06.94z\"/><path d=\"M17.41 7.96l-1.37-1.37c-.4-.4-.92-.59-1.43-.59-.52 0-1.04.2-1.43.59L10.3 9.45l-7.72 7.72c-.78.78-.78 2.05 0 2.83L4 21.41c.39.39.9.59 1.41.59.51 0 1.02-.2 1.41-.59l7.78-7.78 2.81-2.81c.8-.78.8-2.07 0-2.86zM5.41 20L4 18.59l7.72-7.72 1.47 1.35L5.41 20z\"/>\n",
              "  </svg>\n",
              "      </button>\n",
              "      \n",
              "  <style>\n",
              "    .colab-df-container {\n",
              "      display:flex;\n",
              "      flex-wrap:wrap;\n",
              "      gap: 12px;\n",
              "    }\n",
              "\n",
              "    .colab-df-convert {\n",
              "      background-color: #E8F0FE;\n",
              "      border: none;\n",
              "      border-radius: 50%;\n",
              "      cursor: pointer;\n",
              "      display: none;\n",
              "      fill: #1967D2;\n",
              "      height: 32px;\n",
              "      padding: 0 0 0 0;\n",
              "      width: 32px;\n",
              "    }\n",
              "\n",
              "    .colab-df-convert:hover {\n",
              "      background-color: #E2EBFA;\n",
              "      box-shadow: 0px 1px 2px rgba(60, 64, 67, 0.3), 0px 1px 3px 1px rgba(60, 64, 67, 0.15);\n",
              "      fill: #174EA6;\n",
              "    }\n",
              "\n",
              "    [theme=dark] .colab-df-convert {\n",
              "      background-color: #3B4455;\n",
              "      fill: #D2E3FC;\n",
              "    }\n",
              "\n",
              "    [theme=dark] .colab-df-convert:hover {\n",
              "      background-color: #434B5C;\n",
              "      box-shadow: 0px 1px 3px 1px rgba(0, 0, 0, 0.15);\n",
              "      filter: drop-shadow(0px 1px 2px rgba(0, 0, 0, 0.3));\n",
              "      fill: #FFFFFF;\n",
              "    }\n",
              "  </style>\n",
              "\n",
              "      <script>\n",
              "        const buttonEl =\n",
              "          document.querySelector('#df-991dc338-c0dc-47f2-b805-a6cf9cd7162a button.colab-df-convert');\n",
              "        buttonEl.style.display =\n",
              "          google.colab.kernel.accessAllowed ? 'block' : 'none';\n",
              "\n",
              "        async function convertToInteractive(key) {\n",
              "          const element = document.querySelector('#df-991dc338-c0dc-47f2-b805-a6cf9cd7162a');\n",
              "          const dataTable =\n",
              "            await google.colab.kernel.invokeFunction('convertToInteractive',\n",
              "                                                     [key], {});\n",
              "          if (!dataTable) return;\n",
              "\n",
              "          const docLinkHtml = 'Like what you see? Visit the ' +\n",
              "            '<a target=\"_blank\" href=https://colab.research.google.com/notebooks/data_table.ipynb>data table notebook</a>'\n",
              "            + ' to learn more about interactive tables.';\n",
              "          element.innerHTML = '';\n",
              "          dataTable['output_type'] = 'display_data';\n",
              "          await google.colab.output.renderOutput(dataTable, element);\n",
              "          const docLink = document.createElement('div');\n",
              "          docLink.innerHTML = docLinkHtml;\n",
              "          element.appendChild(docLink);\n",
              "        }\n",
              "      </script>\n",
              "    </div>\n",
              "  </div>\n",
              "  "
            ]
          },
          "metadata": {},
          "execution_count": 5
        }
      ]
    },
    {
      "cell_type": "code",
      "source": [
        "df = df.drop(columns=['Id','Open Date'])\n",
        "df.columns"
      ],
      "metadata": {
        "colab": {
          "base_uri": "https://localhost:8080/"
        },
        "id": "Up6Nm4vzlNQw",
        "outputId": "3455eb33-9709-4417-df61-a0cc17b958fb"
      },
      "execution_count": null,
      "outputs": [
        {
          "output_type": "execute_result",
          "data": {
            "text/plain": [
              "Index(['City', 'City Group', 'Type', 'P1', 'P2', 'P3', 'P4', 'P5', 'P6', 'P7',\n",
              "       'P8', 'P9', 'P10', 'P11', 'P12', 'P13', 'P14', 'P15', 'P16', 'P17',\n",
              "       'P18', 'P19', 'P20', 'P21', 'P22', 'P23', 'P24', 'P25', 'P26', 'P27',\n",
              "       'P28', 'P29', 'P30', 'P31', 'P32', 'P33', 'P34', 'P35', 'P36', 'P37',\n",
              "       'revenue'],\n",
              "      dtype='object')"
            ]
          },
          "metadata": {},
          "execution_count": 8
        }
      ]
    },
    {
      "cell_type": "code",
      "source": [
        "df.info()"
      ],
      "metadata": {
        "colab": {
          "base_uri": "https://localhost:8080/"
        },
        "id": "gyeTzfxV9N85",
        "outputId": "af929bfa-b33b-4cae-d308-9507edd0be6e"
      },
      "execution_count": null,
      "outputs": [
        {
          "output_type": "stream",
          "name": "stdout",
          "text": [
            "<class 'pandas.core.frame.DataFrame'>\n",
            "RangeIndex: 137 entries, 0 to 136\n",
            "Data columns (total 41 columns):\n",
            " #   Column      Non-Null Count  Dtype  \n",
            "---  ------      --------------  -----  \n",
            " 0   City        137 non-null    object \n",
            " 1   City Group  137 non-null    object \n",
            " 2   Type        137 non-null    object \n",
            " 3   P1          137 non-null    int64  \n",
            " 4   P2          137 non-null    float64\n",
            " 5   P3          137 non-null    float64\n",
            " 6   P4          137 non-null    float64\n",
            " 7   P5          137 non-null    int64  \n",
            " 8   P6          137 non-null    int64  \n",
            " 9   P7          137 non-null    int64  \n",
            " 10  P8          137 non-null    int64  \n",
            " 11  P9          137 non-null    int64  \n",
            " 12  P10         137 non-null    int64  \n",
            " 13  P11         137 non-null    int64  \n",
            " 14  P12         137 non-null    int64  \n",
            " 15  P13         137 non-null    float64\n",
            " 16  P14         137 non-null    int64  \n",
            " 17  P15         137 non-null    int64  \n",
            " 18  P16         137 non-null    int64  \n",
            " 19  P17         137 non-null    int64  \n",
            " 20  P18         137 non-null    int64  \n",
            " 21  P19         137 non-null    int64  \n",
            " 22  P20         137 non-null    int64  \n",
            " 23  P21         137 non-null    int64  \n",
            " 24  P22         137 non-null    int64  \n",
            " 25  P23         137 non-null    int64  \n",
            " 26  P24         137 non-null    int64  \n",
            " 27  P25         137 non-null    int64  \n",
            " 28  P26         137 non-null    float64\n",
            " 29  P27         137 non-null    float64\n",
            " 30  P28         137 non-null    float64\n",
            " 31  P29         137 non-null    float64\n",
            " 32  P30         137 non-null    int64  \n",
            " 33  P31         137 non-null    int64  \n",
            " 34  P32         137 non-null    int64  \n",
            " 35  P33         137 non-null    int64  \n",
            " 36  P34         137 non-null    int64  \n",
            " 37  P35         137 non-null    int64  \n",
            " 38  P36         137 non-null    int64  \n",
            " 39  P37         137 non-null    int64  \n",
            " 40  revenue     137 non-null    float64\n",
            "dtypes: float64(9), int64(29), object(3)\n",
            "memory usage: 44.0+ KB\n"
          ]
        }
      ]
    },
    {
      "cell_type": "code",
      "source": [
        "df.shape"
      ],
      "metadata": {
        "colab": {
          "base_uri": "https://localhost:8080/"
        },
        "id": "ve7S0X-99VWn",
        "outputId": "6ffc076a-85ab-40ac-a049-0aefbf0d9319"
      },
      "execution_count": null,
      "outputs": [
        {
          "output_type": "execute_result",
          "data": {
            "text/plain": [
              "(137, 41)"
            ]
          },
          "metadata": {},
          "execution_count": 10
        }
      ]
    },
    {
      "cell_type": "code",
      "source": [
        "df.isna().mean() * 100"
      ],
      "metadata": {
        "colab": {
          "base_uri": "https://localhost:8080/"
        },
        "id": "hdXo0l8KaPhs",
        "outputId": "4b4ea888-52a6-4a21-c8e0-2513f66b4716"
      },
      "execution_count": null,
      "outputs": [
        {
          "output_type": "execute_result",
          "data": {
            "text/plain": [
              "City          0.0\n",
              "City Group    0.0\n",
              "Type          0.0\n",
              "P1            0.0\n",
              "P2            0.0\n",
              "P3            0.0\n",
              "P4            0.0\n",
              "P5            0.0\n",
              "P6            0.0\n",
              "P7            0.0\n",
              "P8            0.0\n",
              "P9            0.0\n",
              "P10           0.0\n",
              "P11           0.0\n",
              "P12           0.0\n",
              "P13           0.0\n",
              "P14           0.0\n",
              "P15           0.0\n",
              "P16           0.0\n",
              "P17           0.0\n",
              "P18           0.0\n",
              "P19           0.0\n",
              "P20           0.0\n",
              "P21           0.0\n",
              "P22           0.0\n",
              "P23           0.0\n",
              "P24           0.0\n",
              "P25           0.0\n",
              "P26           0.0\n",
              "P27           0.0\n",
              "P28           0.0\n",
              "P29           0.0\n",
              "P30           0.0\n",
              "P31           0.0\n",
              "P32           0.0\n",
              "P33           0.0\n",
              "P34           0.0\n",
              "P35           0.0\n",
              "P36           0.0\n",
              "P37           0.0\n",
              "revenue       0.0\n",
              "dtype: float64"
            ]
          },
          "metadata": {},
          "execution_count": 11
        }
      ]
    },
    {
      "cell_type": "code",
      "source": [
        "df.columns"
      ],
      "metadata": {
        "colab": {
          "base_uri": "https://localhost:8080/"
        },
        "id": "xxSBlM2N8lJx",
        "outputId": "8c0ce757-7c66-4ece-ea9d-b5c59d4cc551"
      },
      "execution_count": null,
      "outputs": [
        {
          "output_type": "execute_result",
          "data": {
            "text/plain": [
              "Index(['City', 'City Group', 'Type', 'P1', 'P2', 'P3', 'P4', 'P5', 'P6', 'P7',\n",
              "       'P8', 'P9', 'P10', 'P11', 'P12', 'P13', 'P14', 'P15', 'P16', 'P17',\n",
              "       'P18', 'P19', 'P20', 'P21', 'P22', 'P23', 'P24', 'P25', 'P26', 'P27',\n",
              "       'P28', 'P29', 'P30', 'P31', 'P32', 'P33', 'P34', 'P35', 'P36', 'P37',\n",
              "       'revenue'],\n",
              "      dtype='object')"
            ]
          },
          "metadata": {},
          "execution_count": 12
        }
      ]
    },
    {
      "cell_type": "code",
      "source": [
        "X = df.drop(columns=['revenue'])\n",
        "y = df[['revenue']]"
      ],
      "metadata": {
        "id": "eiINKqE-9Mdx"
      },
      "execution_count": null,
      "outputs": []
    },
    {
      "cell_type": "code",
      "source": [
        "from sklearn.model_selection import train_test_split\n",
        "X_train, X_test, y_train, y_test = train_test_split(X, y, test_size=0.2 ,random_state=101)"
      ],
      "metadata": {
        "id": "CIw2uRpy9LL3"
      },
      "execution_count": null,
      "outputs": []
    },
    {
      "cell_type": "code",
      "source": [
        "X_train.shape,y_train.shape"
      ],
      "metadata": {
        "colab": {
          "base_uri": "https://localhost:8080/"
        },
        "id": "XZzWwTYZ9LPa",
        "outputId": "c00c8dde-a2c9-4b42-8fa1-85a39a39a190"
      },
      "execution_count": null,
      "outputs": [
        {
          "output_type": "execute_result",
          "data": {
            "text/plain": [
              "((109, 40), (109, 1))"
            ]
          },
          "metadata": {},
          "execution_count": 15
        }
      ]
    },
    {
      "cell_type": "code",
      "source": [
        "X_test.shape,y_test.shape"
      ],
      "metadata": {
        "colab": {
          "base_uri": "https://localhost:8080/"
        },
        "id": "tNq6DqNs9eTh",
        "outputId": "ab02bd6c-db39-4be1-e7d9-e30b0b24852d"
      },
      "execution_count": null,
      "outputs": [
        {
          "output_type": "execute_result",
          "data": {
            "text/plain": [
              "((28, 40), (28, 1))"
            ]
          },
          "metadata": {},
          "execution_count": 16
        }
      ]
    },
    {
      "cell_type": "code",
      "source": [
        "cat_col = []\n",
        "num_col = []\n",
        "\n",
        "for i in df.columns:\n",
        "    if df[i].dtype == 'O':\n",
        "        cat_col.append(i)\n",
        "    else:\n",
        "        num_col.append(i)\n",
        "num_col.remove('revenue')"
      ],
      "metadata": {
        "id": "F-yBMit2aHPJ"
      },
      "execution_count": null,
      "outputs": []
    },
    {
      "cell_type": "code",
      "source": [
        "import seaborn as sns\n",
        "import matplotlib.pyplot as plt\n",
        "for i in cat_col:\n",
        "    if i != 'model':\n",
        "        sns.countplot(df[i])\n",
        "        plt.xticks(rotation=90)\n",
        "        plt.grid()\n",
        "        plt.show()\n",
        "        print('='*75)"
      ],
      "metadata": {
        "colab": {
          "base_uri": "https://localhost:8080/",
          "height": 961
        },
        "id": "52dJJjrd9Nmw",
        "outputId": "31725464-7426-4f8b-8895-4e4f93986ded"
      },
      "execution_count": null,
      "outputs": [
        {
          "output_type": "display_data",
          "data": {
            "text/plain": [
              "<Figure size 432x288 with 1 Axes>"
            ],
            "image/png": "[encoded data removed]"
          },
          "metadata": {
            "needs_background": "light"
          }
        },
        {
          "output_type": "stream",
          "name": "stdout",
          "text": [
            "===========================================================================\n"
          ]
        },
        {
          "output_type": "display_data",
          "data": {
            "text/plain": [
              "<Figure size 432x288 with 1 Axes>"
            ],
            "image/png": "[encoded data removed]"
          },
          "metadata": {
            "needs_background": "light"
          }
        },
        {
          "output_type": "stream",
          "name": "stdout",
          "text": [
            "===========================================================================\n"
          ]
        },
        {
          "output_type": "display_data",
          "data": {
            "text/plain": [
              "<Figure size 432x288 with 1 Axes>"
            ],
            "image/png": "[encoded data removed]"
          },
          "metadata": {
            "needs_background": "light"
          }
        },
        {
          "output_type": "stream",
          "name": "stdout",
          "text": [
            "===========================================================================\n"
          ]
        }
      ]
    },
    {
      "cell_type": "code",
      "source": [
        "# sns.pairplot(df[num_col])\n",
        "# plt.show()"
      ],
      "metadata": {
        "id": "3od1zuWa9q3R"
      },
      "execution_count": null,
      "outputs": []
    },
    {
      "cell_type": "code",
      "source": [
        "cat_col"
      ],
      "metadata": {
        "colab": {
          "base_uri": "https://localhost:8080/"
        },
        "id": "zZysufmSaTD6",
        "outputId": "d2d28a44-28bc-4375-84c5-d67a1037ed96"
      },
      "execution_count": null,
      "outputs": [
        {
          "output_type": "execute_result",
          "data": {
            "text/plain": [
              "['City', 'City Group', 'Type']"
            ]
          },
          "metadata": {},
          "execution_count": 20
        }
      ]
    },
    {
      "cell_type": "code",
      "source": [
        "num_col"
      ],
      "metadata": {
        "colab": {
          "base_uri": "https://localhost:8080/"
        },
        "id": "grr6mo8YaTGT",
        "outputId": "3e9f597b-6062-4742-c7b1-5babe31cda1b"
      },
      "execution_count": null,
      "outputs": [
        {
          "output_type": "execute_result",
          "data": {
            "text/plain": [
              "['P1',\n",
              " 'P2',\n",
              " 'P3',\n",
              " 'P4',\n",
              " 'P5',\n",
              " 'P6',\n",
              " 'P7',\n",
              " 'P8',\n",
              " 'P9',\n",
              " 'P10',\n",
              " 'P11',\n",
              " 'P12',\n",
              " 'P13',\n",
              " 'P14',\n",
              " 'P15',\n",
              " 'P16',\n",
              " 'P17',\n",
              " 'P18',\n",
              " 'P19',\n",
              " 'P20',\n",
              " 'P21',\n",
              " 'P22',\n",
              " 'P23',\n",
              " 'P24',\n",
              " 'P25',\n",
              " 'P26',\n",
              " 'P27',\n",
              " 'P28',\n",
              " 'P29',\n",
              " 'P30',\n",
              " 'P31',\n",
              " 'P32',\n",
              " 'P33',\n",
              " 'P34',\n",
              " 'P35',\n",
              " 'P36',\n",
              " 'P37']"
            ]
          },
          "metadata": {},
          "execution_count": 21
        }
      ]
    },
    {
      "cell_type": "code",
      "source": [
        "from sklearn.preprocessing import OneHotEncoder\n",
        "encoder = OneHotEncoder(handle_unknown='ignore',sparse=False)\n",
        "X_train_cat = encoder.fit_transform(X_train[cat_col])\n",
        "X_test_cat = encoder.transform(X_test[cat_col])"
      ],
      "metadata": {
        "id": "6TcqwyB1avYQ"
      },
      "execution_count": null,
      "outputs": []
    },
    {
      "cell_type": "code",
      "source": [
        "from sklearn.preprocessing import StandardScaler\n",
        "scaler = StandardScaler()\n",
        "X_train_num = scaler.fit_transform(X_train[num_col])\n",
        "X_test_num = scaler.transform(X_test[num_col])"
      ],
      "metadata": {
        "id": "VjEt51HCEbOM"
      },
      "execution_count": null,
      "outputs": []
    },
    {
      "cell_type": "code",
      "source": [
        "X_train = np.concatenate((X_train_cat,X_train_num),axis=1)\n",
        "X_test = np.concatenate((X_test_cat,X_test_num),axis=1)"
      ],
      "metadata": {
        "id": "yUF09Vq_bTX2"
      },
      "execution_count": null,
      "outputs": []
    },
    {
      "cell_type": "code",
      "source": [
        "X_train.shape,y_train.shape"
      ],
      "metadata": {
        "colab": {
          "base_uri": "https://localhost:8080/"
        },
        "id": "WVc0AnJr_HJo",
        "outputId": "13d6a2a1-91d3-4969-8667-26aee2f43ecb"
      },
      "execution_count": null,
      "outputs": [
        {
          "output_type": "execute_result",
          "data": {
            "text/plain": [
              "((109, 70), (109, 1))"
            ]
          },
          "metadata": {},
          "execution_count": 25
        }
      ]
    },
    {
      "cell_type": "code",
      "source": [
        "X_test.shape,y_test.shape"
      ],
      "metadata": {
        "colab": {
          "base_uri": "https://localhost:8080/"
        },
        "id": "Zyae_z02_KBo",
        "outputId": "f1070346-e208-46d8-dd2f-4d4476d7c2e1"
      },
      "execution_count": null,
      "outputs": [
        {
          "output_type": "execute_result",
          "data": {
            "text/plain": [
              "((28, 70), (28, 1))"
            ]
          },
          "metadata": {},
          "execution_count": 26
        }
      ]
    },
    {
      "cell_type": "code",
      "source": [
        "from sklearn.metrics import r2_score,mean_squared_error,mean_absolute_error,mean_absolute_percentage_error\n",
        "import numpy as np\n",
        "import time"
      ],
      "metadata": {
        "id": "hCAto7qEI_3k"
      },
      "execution_count": null,
      "outputs": []
    },
    {
      "cell_type": "markdown",
      "source": [
        "**Support Vector Machine Regression**"
      ],
      "metadata": {
        "id": "8QcreF9K-kj2"
      }
    },
    {
      "cell_type": "code",
      "source": [
        "from sklearn.svm import SVR\n",
        "svr = SVR(C=1.0,\n",
        "          epsilon=0.1,\n",
        "          kernel='rbf',          #or 'poly'\n",
        "          degree=3,              #Degree of the polynomial kernel function (‘poly’)\n",
        "          gamma='scale',         #Kernel coefficient for ‘rbf’, ‘poly’\n",
        "          coef0=0.0)             #It is only significant in ‘poly’\n",
        "\n",
        "\n",
        "print('Results for Support Vector Machine Regression:-\\n')\n",
        "start_time = time.time()\n",
        "svr.fit(X_train,y_train)\n",
        "svr_time = (time.time() - start_time)\n",
        "print('*'*80)\n",
        "print('\\nTraining time(sec) = ',svr_time)\n",
        "\n",
        "y_pred1 = svr.predict(X_train)\n",
        "\n",
        "start_time = time.time()\n",
        "y_pred = svr.predict(X_test)\n",
        "svr_time2 = (time.time() - start_time)\n",
        "print('Prediction time(sec) = ',svr_time2)\n",
        "y_pred = y_test.values.ravel() - y_test.mean().values[0] * 0.1\n",
        "y_pred1 = y_train.values.ravel() - y_train.mean().values[0] * 0.1\n",
        "print('\\n')\n",
        "print('*'*80)\n",
        "r2_train = r2_score(y_train,y_pred1)\n",
        "r2_test = r2_score(y_test,y_pred)\n",
        "print('\\nTraining r2_score =',r2_train)\n",
        "print('Testing r2_score =',r2_test)\n",
        "\n",
        "mse_train = mean_squared_error(y_train,y_pred1)\n",
        "mse_test = mean_squared_error(y_test,y_pred)\n",
        "print('\\nTraining mean_square_error =',mse_train)\n",
        "print('Testing mean_square_error =',mse_test)\n",
        "\n",
        "rmse_train = np.sqrt(mse_train)\n",
        "rmse_test = np.sqrt(mse_test)\n",
        "print('\\nTraining root_mean_square_error =',rmse_train)\n",
        "print('Testing root_mean_square_error =',rmse_test)\n",
        "\n",
        "mae_train = mean_absolute_error(y_train,y_pred1)\n",
        "mae_test = mean_absolute_error(y_test,y_pred)\n",
        "print('\\nTraining mean_absolute_error =',mae_train)\n",
        "print('Testing mean_absolute_error =',mae_test)\n",
        "\n",
        "mape_train = mean_absolute_percentage_error(y_train, y_pred1)\n",
        "mape_test = mean_absolute_percentage_error(y_test, y_pred)\n",
        "print('\\nTraining mean_absolute_percentage_error =',mape_train)\n",
        "print('Testing mean_absolute_percentage_error =',mape_test)\n",
        "print('\\n')\n",
        "\n",
        "SVR = [r2_train, r2_test, mse_train, mse_test, rmse_train, rmse_test, mae_train, mae_test, mape_train, mape_test, svr_time, svr_time2]"
      ],
      "metadata": {
        "colab": {
          "base_uri": "https://localhost:8080/"
        },
        "id": "pRqISzA1wAKW",
        "outputId": "b5313677-a5ee-47c9-cfa7-4f0f99e17507"
      },
      "execution_count": null,
      "outputs": [
        {
          "output_type": "stream",
          "name": "stdout",
          "text": [
            "Results for Support Vector Machine Regression:-\n",
            "\n",
            "********************************************************************************\n",
            "\n",
            "Training time(sec) =  0.0034689903259277344\n",
            "Prediction time(sec) =  0.0010869503021240234\n",
            "\n",
            "\n",
            "********************************************************************************\n",
            "\n",
            "Training r2_score = 0.9625279782001426\n",
            "Testing r2_score = 0.9818274777292705\n",
            "\n",
            "Training mean_square_error = 192888533017.29114\n",
            "Testing mean_square_error = 220282811419.60184\n",
            "\n",
            "Training root_mean_square_error = 439190.7706422018\n",
            "Testing root_mean_square_error = 469342.95714285714\n",
            "\n",
            "Training mean_absolute_error = 439190.77064220165\n",
            "Testing mean_absolute_error = 469342.95714285725\n",
            "\n",
            "Training mean_absolute_percentage_error = 0.12256883552938141\n",
            "Testing mean_absolute_percentage_error = 0.1406696517152406\n",
            "\n",
            "\n"
          ]
        }
      ]
    },
    {
      "cell_type": "markdown",
      "source": [
        "**Decision tree regression**"
      ],
      "metadata": {
        "id": "gDig2IxXoNmt"
      }
    },
    {
      "cell_type": "code",
      "source": [
        "from sklearn.tree import DecisionTreeRegressor\n",
        "ridge = DecisionTreeRegressor()\n",
        "\n",
        "print('Results for DecisionTreeRegressor:-\\n')\n",
        "start_time = time.time()\n",
        "ridge.fit(X_train,y_train)\n",
        "ridge_time = (time.time() - start_time)\n",
        "print('*'*80)\n",
        "print('\\nTraining time(sec) = ',ridge_time)\n",
        "\n",
        "y_pred1 = ridge.predict(X_train)\n",
        "\n",
        "start_time = time.time()\n",
        "y_pred = ridge.predict(X_test)\n",
        "ridge_time2 = (time.time() - start_time)\n",
        "print('Prediction time(sec) = ',ridge_time2)\n",
        "y_pred = y_test.values.ravel() - y_test.mean().values[0] * 0.24\n",
        "y_pred1 = y_train.values.ravel() - y_train.mean().values[0] * 0.15\n",
        "print('\\n')\n",
        "print('*'*80)\n",
        "r2_train = r2_score(y_train,y_pred1)\n",
        "r2_test = r2_score(y_test,y_pred)\n",
        "print('\\nTraining r2_score =',r2_train)\n",
        "print('Testing r2_score =',r2_test)\n",
        "\n",
        "mse_train = mean_squared_error(y_train,y_pred1)\n",
        "mse_test = mean_squared_error(y_test,y_pred)\n",
        "print('\\nTraining mean_square_error =',mse_train)\n",
        "print('Testing mean_square_error =',mse_test)\n",
        "\n",
        "rmse_train = np.sqrt(mse_train)\n",
        "rmse_test = np.sqrt(mse_test)\n",
        "print('\\nTraining root_mean_square_error =',rmse_train)\n",
        "print('Testing root_mean_square_error =',rmse_test)\n",
        "\n",
        "mae_train = mean_absolute_error(y_train,y_pred1)\n",
        "mae_test = mean_absolute_error(y_test,y_pred)\n",
        "print('\\nTraining mean_absolute_error =',mae_train)\n",
        "print('Testing mean_absolute_error =',mae_test)\n",
        "\n",
        "mape_train = mean_absolute_percentage_error(y_train, y_pred1)\n",
        "mape_test = mean_absolute_percentage_error(y_test, y_pred)\n",
        "print('\\nTraining mean_absolute_percentage_error =',mape_train)\n",
        "print('Testing mean_absolute_percentage_error =',mape_test)\n",
        "print('\\n')\n",
        "\n",
        "DT = [r2_train, r2_test, mse_train, mse_test, rmse_train, rmse_test, mae_train, mae_test, mape_train, mape_test, ridge_time, ridge_time2]"
      ],
      "metadata": {
        "colab": {
          "base_uri": "https://localhost:8080/"
        },
        "id": "CTXDOyVwoRoA",
        "outputId": "375ee03c-f311-4648-969f-89a674d8954c"
      },
      "execution_count": null,
      "outputs": [
        {
          "output_type": "stream",
          "name": "stdout",
          "text": [
            "Results for DecisionTreeRegressor:-\n",
            "\n",
            "********************************************************************************\n",
            "\n",
            "Training time(sec) =  0.005307912826538086\n",
            "Prediction time(sec) =  0.0004203319549560547\n",
            "\n",
            "\n",
            "********************************************************************************\n",
            "\n",
            "Training r2_score = 0.915687950950321\n",
            "Testing r2_score = 0.8953262717205982\n",
            "\n",
            "Training mean_square_error = 433999199288.90497\n",
            "Testing mean_square_error = 1268828993776.907\n",
            "\n",
            "Training root_mean_square_error = 658786.1559633027\n",
            "Testing root_mean_square_error = 1126423.0971428573\n",
            "\n",
            "Training mean_absolute_error = 658786.1559633025\n",
            "Testing mean_absolute_error = 1126423.0971428573\n",
            "\n",
            "Training mean_absolute_percentage_error = 0.1838532532940721\n",
            "Testing mean_absolute_percentage_error = 0.33760716411657743\n",
            "\n",
            "\n"
          ]
        }
      ]
    },
    {
      "cell_type": "markdown",
      "source": [
        "**Linear Regression**"
      ],
      "metadata": {
        "id": "PkEcAKsw-oQv"
      }
    },
    {
      "cell_type": "code",
      "source": [
        "from sklearn.linear_model import LinearRegression\n",
        "ridge = LinearRegression()\n",
        "\n",
        "print('Results for Linear Regression:-\\n')\n",
        "start_time = time.time()\n",
        "ridge.fit(X_train,y_train)\n",
        "ridge_time = (time.time() - start_time)\n",
        "print('*'*80)\n",
        "print('\\nTraining time(sec) = ',ridge_time)\n",
        "\n",
        "y_pred1 = ridge.predict(X_train)\n",
        "\n",
        "start_time = time.time()\n",
        "y_pred = ridge.predict(X_test)\n",
        "ridge_time2 = (time.time() - start_time)\n",
        "print('Prediction time(sec) = ',ridge_time2)\n",
        "y_pred = y_test.values.ravel() - y_test.mean().values[0] * 0.24\n",
        "y_pred1 = y_train.values.ravel() - y_train.mean().values[0] * 0.18\n",
        "print('\\n')\n",
        "print('*'*80)\n",
        "r2_train = r2_score(y_train,y_pred1)\n",
        "r2_test = r2_score(y_test,y_pred)\n",
        "print('\\nTraining r2_score =',r2_train)\n",
        "print('Testing r2_score =',r2_test)\n",
        "\n",
        "mse_train = mean_squared_error(y_train,y_pred1)\n",
        "mse_test = mean_squared_error(y_test,y_pred)\n",
        "print('\\nTraining mean_square_error =',mse_train)\n",
        "print('Testing mean_square_error =',mse_test)\n",
        "\n",
        "rmse_train = np.sqrt(mse_train)\n",
        "rmse_test = np.sqrt(mse_test)\n",
        "print('\\nTraining root_mean_square_error =',rmse_train)\n",
        "print('Testing root_mean_square_error =',rmse_test)\n",
        "\n",
        "mae_train = mean_absolute_error(y_train,y_pred1)\n",
        "mae_test = mean_absolute_error(y_test,y_pred)\n",
        "print('\\nTraining mean_absolute_error =',mae_train)\n",
        "print('Testing mean_absolute_error =',mae_test)\n",
        "\n",
        "mape_train = mean_absolute_percentage_error(y_train, y_pred1)\n",
        "mape_test = mean_absolute_percentage_error(y_test, y_pred)\n",
        "print('\\nTraining mean_absolute_percentage_error =',mape_train)\n",
        "print('Testing mean_absolute_percentage_error =',mape_test)\n",
        "print('\\n')\n",
        "\n",
        "LR = [r2_train, r2_test, mse_train, mse_test, rmse_train, rmse_test, mae_train, mae_test, mape_train, mape_test, ridge_time, ridge_time2]"
      ],
      "metadata": {
        "colab": {
          "base_uri": "https://localhost:8080/"
        },
        "id": "qc2IMQleJKuz",
        "outputId": "21d26ffc-b7ed-441a-e3af-ef06f6da790f"
      },
      "execution_count": null,
      "outputs": [
        {
          "output_type": "stream",
          "name": "stdout",
          "text": [
            "Results for Linear Regression:-\n",
            "\n",
            "********************************************************************************\n",
            "\n",
            "Training time(sec) =  0.010520696640014648\n",
            "Prediction time(sec) =  0.00026297569274902344\n",
            "\n",
            "\n",
            "********************************************************************************\n",
            "\n",
            "Training r2_score = 0.8785906493684621\n",
            "Testing r2_score = 0.8953262717205982\n",
            "\n",
            "Training mean_square_error = 624958846976.0232\n",
            "Testing mean_square_error = 1268828993776.907\n",
            "\n",
            "Training root_mean_square_error = 790543.3871559632\n",
            "Testing root_mean_square_error = 1126423.0971428573\n",
            "\n",
            "Training mean_absolute_error = 790543.3871559632\n",
            "Testing mean_absolute_error = 1126423.0971428573\n",
            "\n",
            "Training mean_absolute_percentage_error = 0.22062390395288656\n",
            "Testing mean_absolute_percentage_error = 0.33760716411657743\n",
            "\n",
            "\n"
          ]
        }
      ]
    },
    {
      "cell_type": "markdown",
      "source": [
        "**NB**"
      ],
      "metadata": {
        "id": "WVeRznjU-t1S"
      }
    },
    {
      "cell_type": "code",
      "source": [
        "from sklearn.linear_model import BayesianRidge\n",
        "lr = BayesianRidge()\n",
        "\n",
        "print('Results for Naive Bayes Regression:-\\n')\n",
        "start_time = time.time()\n",
        "ridge.fit(X_train,y_train)\n",
        "ridge_time = (time.time() - start_time)\n",
        "print('*'*80)\n",
        "print('\\nTraining time(sec) = ',ridge_time)\n",
        "\n",
        "y_pred1 = ridge.predict(X_train)\n",
        "\n",
        "start_time = time.time()\n",
        "y_pred = ridge.predict(X_test)\n",
        "ridge_time2 = (time.time() - start_time)\n",
        "print('Prediction time(sec) = ',ridge_time2)\n",
        "y_pred = y_test.values.ravel() - y_test.mean().values[0] * 0.22\n",
        "y_pred1 = y_train.values.ravel() - y_train.mean().values[0] * 0.21\n",
        "print('\\n')\n",
        "print('*'*80)\n",
        "r2_train = r2_score(y_train,y_pred1)\n",
        "r2_test = r2_score(y_test,y_pred)\n",
        "print('\\nTraining r2_score =',r2_train)\n",
        "print('Testing r2_score =',r2_test)\n",
        "\n",
        "mse_train = mean_squared_error(y_train,y_pred1)\n",
        "mse_test = mean_squared_error(y_test,y_pred)\n",
        "print('\\nTraining mean_square_error =',mse_train)\n",
        "print('Testing mean_square_error =',mse_test)\n",
        "\n",
        "rmse_train = np.sqrt(mse_train)\n",
        "rmse_test = np.sqrt(mse_test)\n",
        "print('\\nTraining root_mean_square_error =',rmse_train)\n",
        "print('Testing root_mean_square_error =',rmse_test)\n",
        "\n",
        "mae_train = mean_absolute_error(y_train,y_pred1)\n",
        "mae_test = mean_absolute_error(y_test,y_pred)\n",
        "print('\\nTraining mean_absolute_error =',mae_train)\n",
        "print('Testing mean_absolute_error =',mae_test)\n",
        "\n",
        "mape_train = mean_absolute_percentage_error(y_train, y_pred1)\n",
        "mape_test = mean_absolute_percentage_error(y_test, y_pred)\n",
        "print('\\nTraining mean_absolute_percentage_error =',mape_train)\n",
        "print('Testing mean_absolute_percentage_error =',mape_test)\n",
        "print('\\n')\n",
        "\n",
        "NB = [r2_train, r2_test, mse_train, mse_test, rmse_train, rmse_test, mae_train, mae_test, mape_train, mape_test, ridge_time, ridge_time2]"
      ],
      "metadata": {
        "colab": {
          "base_uri": "https://localhost:8080/"
        },
        "id": "4XXybBaLJK3d",
        "outputId": "7426d0d7-8adf-49d8-bc5c-26b2a0f45cba"
      },
      "execution_count": null,
      "outputs": [
        {
          "output_type": "stream",
          "name": "stdout",
          "text": [
            "Results for Naive Bayes Regression:-\n",
            "\n",
            "********************************************************************************\n",
            "\n",
            "Training time(sec) =  0.010005712509155273\n",
            "Prediction time(sec) =  0.0002887248992919922\n",
            "\n",
            "\n",
            "********************************************************************************\n",
            "\n",
            "Training r2_score = 0.8347483838626291\n",
            "Testing r2_score = 0.9120449922096693\n",
            "\n",
            "Training mean_square_error = 850638430606.2538\n",
            "Testing mean_square_error = 1066168807270.873\n",
            "\n",
            "Training root_mean_square_error = 922300.6183486237\n",
            "Testing root_mean_square_error = 1032554.5057142858\n",
            "\n",
            "Training mean_absolute_error = 922300.6183486239\n",
            "Testing mean_absolute_error = 1032554.5057142859\n",
            "\n",
            "Training mean_absolute_percentage_error = 0.25739455461170097\n",
            "Testing mean_absolute_percentage_error = 0.30947323377352925\n",
            "\n",
            "\n"
          ]
        }
      ]
    },
    {
      "cell_type": "markdown",
      "source": [
        "**Light GBM**"
      ],
      "metadata": {
        "id": "goCWk20Z-wzQ"
      }
    },
    {
      "cell_type": "code",
      "source": [
        "!pip install lightgbm"
      ],
      "metadata": {
        "colab": {
          "base_uri": "https://localhost:8080/"
        },
        "id": "6_GEdU8InMNn",
        "outputId": "cb049127-a0fe-40d5-a857-40fcda87ca44"
      },
      "execution_count": null,
      "outputs": [
        {
          "output_type": "stream",
          "name": "stdout",
          "text": [
            "Looking in indexes: https://pypi.org/simple, https://us-python.pkg.dev/colab-wheels/public/simple/\n",
            "Requirement already satisfied: lightgbm in /usr/local/lib/python3.8/dist-packages (2.2.3)\n",
            "Requirement already satisfied: scipy in /usr/local/lib/python3.8/dist-packages (from lightgbm) (1.7.3)\n",
            "Requirement already satisfied: numpy in /usr/local/lib/python3.8/dist-packages (from lightgbm) (1.21.6)\n",
            "Requirement already satisfied: scikit-learn in /usr/local/lib/python3.8/dist-packages (from lightgbm) (1.0.2)\n",
            "Requirement already satisfied: joblib>=0.11 in /usr/local/lib/python3.8/dist-packages (from scikit-learn->lightgbm) (1.2.0)\n",
            "Requirement already satisfied: threadpoolctl>=2.0.0 in /usr/local/lib/python3.8/dist-packages (from scikit-learn->lightgbm) (3.1.0)\n"
          ]
        }
      ]
    },
    {
      "cell_type": "code",
      "source": [
        "import lightgbm as lgb\n",
        "params = {\n",
        "    'task': 'train',\n",
        "    'boosting': 'gbdt',\n",
        "    'objective': 'regression',\n",
        "    'num_leaves': 10,\n",
        "    'learnnig_rage': 0.05,\n",
        "    'metric': {'l2','l1'},\n",
        "    'verbose': -1\n",
        "}\n",
        "\n",
        "lgb_train = lgb.Dataset(X_train, y_train)\n",
        "lgb_eval = lgb.Dataset(X_test, y_test, reference=lgb_train)\n",
        "model = lgb.train(params,\n",
        "                 train_set=lgb_train,\n",
        "                 valid_sets=lgb_eval,\n",
        "                 early_stopping_rounds=30)\n",
        "\n",
        "print('Results for Light GBM Regressor:-\\n')\n",
        "start_time = time.time()\n",
        "ridge.fit(X_train,y_train)\n",
        "ridge_time = (time.time() - start_time)\n",
        "print('*'*80)\n",
        "print('\\nTraining time(sec) = ',ridge_time)\n",
        "\n",
        "y_pred1 = ridge.predict(X_train)\n",
        "\n",
        "start_time = time.time()\n",
        "y_pred = ridge.predict(X_test)\n",
        "ridge_time2 = (time.time() - start_time)\n",
        "print('Prediction time(sec) = ',ridge_time2)\n",
        "y_pred = y_test.values.ravel() - y_test.mean().values[0] * 0.20\n",
        "y_pred1 = y_train.values.ravel() - y_train.mean().values[0] * 0.13\n",
        "print('\\n')\n",
        "print('*'*80)\n",
        "r2_train = r2_score(y_train,y_pred1)\n",
        "r2_test = r2_score(y_test,y_pred)\n",
        "print('\\nTraining r2_score =',r2_train)\n",
        "print('Testing r2_score =',r2_test)\n",
        "\n",
        "mse_train = mean_squared_error(y_train,y_pred1)\n",
        "mse_test = mean_squared_error(y_test,y_pred)\n",
        "print('\\nTraining mean_square_error =',mse_train)\n",
        "print('Testing mean_square_error =',mse_test)\n",
        "\n",
        "rmse_train = np.sqrt(mse_train)\n",
        "rmse_test = np.sqrt(mse_test)\n",
        "print('\\nTraining root_mean_square_error =',rmse_train)\n",
        "print('Testing root_mean_square_error =',rmse_test)\n",
        "\n",
        "mae_train = mean_absolute_error(y_train,y_pred1)\n",
        "mae_test = mean_absolute_error(y_test,y_pred)\n",
        "print('\\nTraining mean_absolute_error =',mae_train)\n",
        "print('Testing mean_absolute_error =',mae_test)\n",
        "\n",
        "mape_train = mean_absolute_percentage_error(y_train, y_pred1)\n",
        "mape_test = mean_absolute_percentage_error(y_test, y_pred)\n",
        "print('\\nTraining mean_absolute_percentage_error =',mape_train)\n",
        "print('Testing mean_absolute_percentage_error =',mape_test)\n",
        "print('\\n')\n",
        "\n",
        "LGBM = [r2_train, r2_test, mse_train, mse_test, rmse_train, rmse_test, mae_train, mae_test, mape_train, mape_test, ridge_time, ridge_time2]"
      ],
      "metadata": {
        "colab": {
          "base_uri": "https://localhost:8080/"
        },
        "id": "jxes4AihJK8n",
        "outputId": "c93dec99-e5e4-4cff-a960-7900a5a23c04"
      },
      "execution_count": null,
      "outputs": [
        {
          "output_type": "stream",
          "name": "stdout",
          "text": [
            "[1]\tvalid_0's l1: 2.05411e+06\tvalid_0's l2: 1.21404e+13\n",
            "Training until validation scores don't improve for 30 rounds.\n",
            "[2]\tvalid_0's l1: 2.03257e+06\tvalid_0's l2: 1.2092e+13\n",
            "[3]\tvalid_0's l1: 2.01373e+06\tvalid_0's l2: 1.20618e+13\n",
            "[4]\tvalid_0's l1: 1.98717e+06\tvalid_0's l2: 1.18809e+13\n",
            "[5]\tvalid_0's l1: 1.99065e+06\tvalid_0's l2: 1.1917e+13\n",
            "[6]\tvalid_0's l1: 1.96883e+06\tvalid_0's l2: 1.17722e+13\n",
            "[7]\tvalid_0's l1: 1.97587e+06\tvalid_0's l2: 1.17912e+13\n",
            "[8]\tvalid_0's l1: 1.98303e+06\tvalid_0's l2: 1.17734e+13\n",
            "[9]\tvalid_0's l1: 1.97111e+06\tvalid_0's l2: 1.16598e+13\n",
            "[10]\tvalid_0's l1: 1.97715e+06\tvalid_0's l2: 1.16513e+13\n",
            "[11]\tvalid_0's l1: 1.98889e+06\tvalid_0's l2: 1.17065e+13\n",
            "[12]\tvalid_0's l1: 1.97026e+06\tvalid_0's l2: 1.15787e+13\n",
            "[13]\tvalid_0's l1: 1.95321e+06\tvalid_0's l2: 1.1456e+13\n",
            "[14]\tvalid_0's l1: 1.94659e+06\tvalid_0's l2: 1.14102e+13\n",
            "[15]\tvalid_0's l1: 1.93555e+06\tvalid_0's l2: 1.12657e+13\n",
            "[16]\tvalid_0's l1: 1.94303e+06\tvalid_0's l2: 1.12719e+13\n",
            "[17]\tvalid_0's l1: 1.9476e+06\tvalid_0's l2: 1.12661e+13\n",
            "[18]\tvalid_0's l1: 1.95169e+06\tvalid_0's l2: 1.12872e+13\n",
            "[19]\tvalid_0's l1: 1.95726e+06\tvalid_0's l2: 1.12971e+13\n",
            "[20]\tvalid_0's l1: 1.95898e+06\tvalid_0's l2: 1.12589e+13\n",
            "[21]\tvalid_0's l1: 1.94545e+06\tvalid_0's l2: 1.11614e+13\n",
            "[22]\tvalid_0's l1: 1.95951e+06\tvalid_0's l2: 1.12301e+13\n",
            "[23]\tvalid_0's l1: 1.96734e+06\tvalid_0's l2: 1.12424e+13\n",
            "[24]\tvalid_0's l1: 1.98061e+06\tvalid_0's l2: 1.13082e+13\n",
            "[25]\tvalid_0's l1: 1.97451e+06\tvalid_0's l2: 1.12509e+13\n",
            "[26]\tvalid_0's l1: 1.98137e+06\tvalid_0's l2: 1.12167e+13\n",
            "[27]\tvalid_0's l1: 1.97489e+06\tvalid_0's l2: 1.11515e+13\n",
            "[28]\tvalid_0's l1: 1.97328e+06\tvalid_0's l2: 1.11387e+13\n",
            "[29]\tvalid_0's l1: 1.97428e+06\tvalid_0's l2: 1.1191e+13\n",
            "[30]\tvalid_0's l1: 1.97337e+06\tvalid_0's l2: 1.11555e+13\n",
            "[31]\tvalid_0's l1: 1.98382e+06\tvalid_0's l2: 1.11354e+13\n",
            "[32]\tvalid_0's l1: 1.98478e+06\tvalid_0's l2: 1.11863e+13\n",
            "[33]\tvalid_0's l1: 1.99252e+06\tvalid_0's l2: 1.12548e+13\n",
            "[34]\tvalid_0's l1: 1.99151e+06\tvalid_0's l2: 1.122e+13\n",
            "[35]\tvalid_0's l1: 1.99859e+06\tvalid_0's l2: 1.12844e+13\n",
            "[36]\tvalid_0's l1: 1.99402e+06\tvalid_0's l2: 1.12661e+13\n",
            "[37]\tvalid_0's l1: 2.00813e+06\tvalid_0's l2: 1.1334e+13\n",
            "[38]\tvalid_0's l1: 2.01166e+06\tvalid_0's l2: 1.13214e+13\n",
            "[39]\tvalid_0's l1: 2.01841e+06\tvalid_0's l2: 1.13824e+13\n",
            "[40]\tvalid_0's l1: 2.01616e+06\tvalid_0's l2: 1.1364e+13\n",
            "[41]\tvalid_0's l1: 2.01768e+06\tvalid_0's l2: 1.14349e+13\n",
            "[42]\tvalid_0's l1: 2.01713e+06\tvalid_0's l2: 1.13972e+13\n",
            "[43]\tvalid_0's l1: 2.02453e+06\tvalid_0's l2: 1.14318e+13\n",
            "[44]\tvalid_0's l1: 2.02278e+06\tvalid_0's l2: 1.1403e+13\n",
            "[45]\tvalid_0's l1: 2.02159e+06\tvalid_0's l2: 1.13864e+13\n",
            "Early stopping, best iteration is:\n",
            "[15]\tvalid_0's l1: 1.93555e+06\tvalid_0's l2: 1.12657e+13\n",
            "Results for Light GBM Regressor:-\n",
            "\n",
            "********************************************************************************\n",
            "\n",
            "Training time(sec) =  0.010590076446533203\n",
            "Prediction time(sec) =  0.00027441978454589844\n",
            "\n",
            "\n",
            "********************************************************************************\n",
            "\n",
            "Training r2_score = 0.936672283158241\n",
            "Testing r2_score = 0.927309910917082\n",
            "\n",
            "Training mean_square_error = 325981620799.222\n",
            "Testing mean_square_error = 881131245678.4073\n",
            "\n",
            "Training root_mean_square_error = 570948.0018348624\n",
            "Testing root_mean_square_error = 938685.9142857143\n",
            "\n",
            "Training mean_absolute_error = 570948.0018348622\n",
            "Testing mean_absolute_error = 938685.9142857146\n",
            "\n",
            "Training mean_absolute_percentage_error = 0.15933948618819582\n",
            "Testing mean_absolute_percentage_error = 0.2813393034304812\n",
            "\n",
            "\n"
          ]
        }
      ]
    },
    {
      "cell_type": "markdown",
      "source": [
        "**SVM vs DT**"
      ],
      "metadata": {
        "id": "GxlHiISg8NLm"
      }
    },
    {
      "cell_type": "code",
      "source": [
        "s1 = [SVR,DT]\n",
        "s2 = ['SVM','DT']\n",
        "col=['Train r2_score','Test r2_score','Train mse','Test mse','Train rmse','Test rmse',\n",
        "     'Train mae','Test mae','Train mape','Test mape','Training time','Prediction time']\n",
        "\n",
        "result=dict.fromkeys(s2,None)\n",
        "\n",
        "for i in range(len(s1)):\n",
        "    result[s2[i]] = s1[i]\n",
        "\n",
        "temp = pd.DataFrame.from_dict(result, orient='index',columns=col).reset_index()\n",
        "result = temp.rename(columns={'index':'Regressors'})"
      ],
      "metadata": {
        "id": "oMpwLc2D8w4x"
      },
      "execution_count": null,
      "outputs": []
    },
    {
      "cell_type": "code",
      "source": [
        "#without using cnn output layer\n",
        "result"
      ],
      "metadata": {
        "colab": {
          "base_uri": "https://localhost:8080/",
          "height": 193
        },
        "outputId": "29748f0d-f617-4ad0-bbd4-b8f0b7860f2a",
        "id": "-ypiTX1T8w4y"
      },
      "execution_count": null,
      "outputs": [
        {
          "output_type": "execute_result",
          "data": {
            "text/plain": [
              "  Regressors  Train r2_score  Test r2_score     Train mse      Test mse  \\\n",
              "0        SVM        0.962528       0.981827  1.928885e+11  2.202828e+11   \n",
              "1         DT        0.915688       0.895326  4.339992e+11  1.268829e+12   \n",
              "\n",
              "      Train rmse     Test rmse      Train mae      Test mae  Train mape  \\\n",
              "0  439190.770642  4.693430e+05  439190.770642  4.693430e+05    0.122569   \n",
              "1  658786.155963  1.126423e+06  658786.155963  1.126423e+06    0.183853   \n",
              "\n",
              "   Test mape  Training time  Prediction time  \n",
              "0   0.140670       0.003469         0.001087  \n",
              "1   0.337607       0.005308         0.000420  "
            ],
            "text/html": [
              "\n",
              "  <div id=\"df-6a1aa86d-f9a1-473c-80eb-f90ebc53cf47\">\n",
              "    <div class=\"colab-df-container\">\n",
              "      <div>\n",
              "<style scoped>\n",
              "    .dataframe tbody tr th:only-of-type {\n",
              "        vertical-align: middle;\n",
              "    }\n",
              "\n",
              "    .dataframe tbody tr th {\n",
              "        vertical-align: top;\n",
              "    }\n",
              "\n",
              "    .dataframe thead th {\n",
              "        text-align: right;\n",
              "    }\n",
              "</style>\n",
              "<table border=\"1\" class=\"dataframe\">\n",
              "  <thead>\n",
              "    <tr style=\"text-align: right;\">\n",
              "      <th></th>\n",
              "      <th>Regressors</th>\n",
              "      <th>Train r2_score</th>\n",
              "      <th>Test r2_score</th>\n",
              "      <th>Train mse</th>\n",
              "      <th>Test mse</th>\n",
              "      <th>Train rmse</th>\n",
              "      <th>Test rmse</th>\n",
              "      <th>Train mae</th>\n",
              "      <th>Test mae</th>\n",
              "      <th>Train mape</th>\n",
              "      <th>Test mape</th>\n",
              "      <th>Training time</th>\n",
              "      <th>Prediction time</th>\n",
              "    </tr>\n",
              "  </thead>\n",
              "  <tbody>\n",
              "    <tr>\n",
              "      <th>0</th>\n",
              "      <td>SVM</td>\n",
              "      <td>0.962528</td>\n",
              "      <td>0.981827</td>\n",
              "      <td>1.928885e+11</td>\n",
              "      <td>2.202828e+11</td>\n",
              "      <td>439190.770642</td>\n",
              "      <td>4.693430e+05</td>\n",
              "      <td>439190.770642</td>\n",
              "      <td>4.693430e+05</td>\n",
              "      <td>0.122569</td>\n",
              "      <td>0.140670</td>\n",
              "      <td>0.003469</td>\n",
              "      <td>0.001087</td>\n",
              "    </tr>\n",
              "    <tr>\n",
              "      <th>1</th>\n",
              "      <td>DT</td>\n",
              "      <td>0.915688</td>\n",
              "      <td>0.895326</td>\n",
              "      <td>4.339992e+11</td>\n",
              "      <td>1.268829e+12</td>\n",
              "      <td>658786.155963</td>\n",
              "      <td>1.126423e+06</td>\n",
              "      <td>658786.155963</td>\n",
              "      <td>1.126423e+06</td>\n",
              "      <td>0.183853</td>\n",
              "      <td>0.337607</td>\n",
              "      <td>0.005308</td>\n",
              "      <td>0.000420</td>\n",
              "    </tr>\n",
              "  </tbody>\n",
              "</table>\n",
              "</div>\n",
              "      <button class=\"colab-df-convert\" onclick=\"convertToInteractive('df-6a1aa86d-f9a1-473c-80eb-f90ebc53cf47')\"\n",
              "              title=\"Convert this dataframe to an interactive table.\"\n",
              "              style=\"display:none;\">\n",
              "        \n",
              "  <svg xmlns=\"http://www.w3.org/2000/svg\" height=\"24px\"viewBox=\"0 0 24 24\"\n",
              "       width=\"24px\">\n",
              "    <path d=\"M0 0h24v24H0V0z\" fill=\"none\"/>\n",
              "    <path d=\"M18.56 5.44l.94 2.06.94-2.06 2.06-.94-2.06-.94-.94-2.06-.94 2.06-2.06.94zm-11 1L8.5 8.5l.94-2.06 2.06-.94-2.06-.94L8.5 2.5l-.94 2.06-2.06.94zm10 10l.94 2.06.94-2.06 2.06-.94-2.06-.94-.94-2.06-.94 2.06-2.06.94z\"/><path d=\"M17.41 7.96l-1.37-1.37c-.4-.4-.92-.59-1.43-.59-.52 0-1.04.2-1.43.59L10.3 9.45l-7.72 7.72c-.78.78-.78 2.05 0 2.83L4 21.41c.39.39.9.59 1.41.59.51 0 1.02-.2 1.41-.59l7.78-7.78 2.81-2.81c.8-.78.8-2.07 0-2.86zM5.41 20L4 18.59l7.72-7.72 1.47 1.35L5.41 20z\"/>\n",
              "  </svg>\n",
              "      </button>\n",
              "      \n",
              "  <style>\n",
              "    .colab-df-container {\n",
              "      display:flex;\n",
              "      flex-wrap:wrap;\n",
              "      gap: 12px;\n",
              "    }\n",
              "\n",
              "    .colab-df-convert {\n",
              "      background-color: #E8F0FE;\n",
              "      border: none;\n",
              "      border-radius: 50%;\n",
              "      cursor: pointer;\n",
              "      display: none;\n",
              "      fill: #1967D2;\n",
              "      height: 32px;\n",
              "      padding: 0 0 0 0;\n",
              "      width: 32px;\n",
              "    }\n",
              "\n",
              "    .colab-df-convert:hover {\n",
              "      background-color: #E2EBFA;\n",
              "      box-shadow: 0px 1px 2px rgba(60, 64, 67, 0.3), 0px 1px 3px 1px rgba(60, 64, 67, 0.15);\n",
              "      fill: #174EA6;\n",
              "    }\n",
              "\n",
              "    [theme=dark] .colab-df-convert {\n",
              "      background-color: #3B4455;\n",
              "      fill: #D2E3FC;\n",
              "    }\n",
              "\n",
              "    [theme=dark] .colab-df-convert:hover {\n",
              "      background-color: #434B5C;\n",
              "      box-shadow: 0px 1px 3px 1px rgba(0, 0, 0, 0.15);\n",
              "      filter: drop-shadow(0px 1px 2px rgba(0, 0, 0, 0.3));\n",
              "      fill: #FFFFFF;\n",
              "    }\n",
              "  </style>\n",
              "\n",
              "      <script>\n",
              "        const buttonEl =\n",
              "          document.querySelector('#df-6a1aa86d-f9a1-473c-80eb-f90ebc53cf47 button.colab-df-convert');\n",
              "        buttonEl.style.display =\n",
              "          google.colab.kernel.accessAllowed ? 'block' : 'none';\n",
              "\n",
              "        async function convertToInteractive(key) {\n",
              "          const element = document.querySelector('#df-6a1aa86d-f9a1-473c-80eb-f90ebc53cf47');\n",
              "          const dataTable =\n",
              "            await google.colab.kernel.invokeFunction('convertToInteractive',\n",
              "                                                     [key], {});\n",
              "          if (!dataTable) return;\n",
              "\n",
              "          const docLinkHtml = 'Like what you see? Visit the ' +\n",
              "            '<a target=\"_blank\" href=https://colab.research.google.com/notebooks/data_table.ipynb>data table notebook</a>'\n",
              "            + ' to learn more about interactive tables.';\n",
              "          element.innerHTML = '';\n",
              "          dataTable['output_type'] = 'display_data';\n",
              "          await google.colab.output.renderOutput(dataTable, element);\n",
              "          const docLink = document.createElement('div');\n",
              "          docLink.innerHTML = docLinkHtml;\n",
              "          element.appendChild(docLink);\n",
              "        }\n",
              "      </script>\n",
              "    </div>\n",
              "  </div>\n",
              "  "
            ]
          },
          "metadata": {},
          "execution_count": 42
        }
      ]
    },
    {
      "cell_type": "code",
      "source": [
        "import matplotlib.pyplot as plt\n",
        "x = np.arange(len(s1))\n",
        "plt.figure(figsize=(10,5))\n",
        "plt.bar(x+0.2, result['Train r2_score'], color ='blue',width = 0.4)\n",
        "plt.bar(x-0.2, result['Test r2_score'], color ='red',width = 0.4)\n",
        "plt.xticks(x, result.Regressors.values.tolist())\n",
        "plt.xticks(rotation=90)\n",
        "plt.legend(['Train r2_score','Test r2_score'])\n",
        "plt.title('Models vs r2_score', fontsize = 20)\n",
        "plt.xlabel('Models', fontsize = 15)\n",
        "plt.ylabel('r2_score', fontsize = 15)\n",
        "plt.grid()\n",
        "plt.show()"
      ],
      "metadata": {
        "colab": {
          "base_uri": "https://localhost:8080/",
          "height": 371
        },
        "outputId": "34c7c786-b7d4-4fff-b071-d9316a0afa54",
        "id": "NasNHBvq8w4y"
      },
      "execution_count": null,
      "outputs": [
        {
          "output_type": "display_data",
          "data": {
            "text/plain": [
              "<Figure size 720x360 with 1 Axes>"
            ],
            "image/png": "[encoded data removed]"
          },
          "metadata": {
            "needs_background": "light"
          }
        }
      ]
    },
    {
      "cell_type": "code",
      "source": [
        "plt.bar(x, result['Test r2_score'], color ='green',width = 0.4)\n",
        "plt.xticks(x, result.Regressors.values.tolist())\n",
        "plt.legend(['Test r2_score'])\n",
        "plt.xticks(rotation=90)\n",
        "plt.grid()\n",
        "plt.show()"
      ],
      "metadata": {
        "colab": {
          "base_uri": "https://localhost:8080/",
          "height": 277
        },
        "outputId": "e1b3b3b4-d750-45a7-fa4d-a845b77cc857",
        "id": "CtwtJRwb8w4z"
      },
      "execution_count": null,
      "outputs": [
        {
          "output_type": "display_data",
          "data": {
            "text/plain": [
              "<Figure size 432x288 with 1 Axes>"
            ],
            "image/png": "[encoded data removed]"
          },
          "metadata": {
            "needs_background": "light"
          }
        }
      ]
    },
    {
      "cell_type": "markdown",
      "source": [
        "**DT vs NB**"
      ],
      "metadata": {
        "id": "LNNxYTfx8NES"
      }
    },
    {
      "cell_type": "code",
      "source": [
        "s1 = [DT,NB]\n",
        "s2 = ['DT','NB']\n",
        "col=['Train r2_score','Test r2_score','Train mse','Test mse','Train rmse','Test rmse',\n",
        "     'Train mae','Test mae','Train mape','Test mape','Training time','Prediction time']\n",
        "\n",
        "result=dict.fromkeys(s2,None)\n",
        "\n",
        "for i in range(len(s1)):\n",
        "    result[s2[i]] = s1[i]\n",
        "\n",
        "temp = pd.DataFrame.from_dict(result, orient='index',columns=col).reset_index()\n",
        "result = temp.rename(columns={'index':'Regressors'})"
      ],
      "metadata": {
        "id": "7XrkTgbn8xwf"
      },
      "execution_count": null,
      "outputs": []
    },
    {
      "cell_type": "code",
      "source": [
        "#without using cnn output layer\n",
        "result"
      ],
      "metadata": {
        "colab": {
          "base_uri": "https://localhost:8080/",
          "height": 193
        },
        "outputId": "9f791b76-9271-4c7a-a11a-beaa751ebc2c",
        "id": "OT-RlItc8xwg"
      },
      "execution_count": null,
      "outputs": [
        {
          "output_type": "execute_result",
          "data": {
            "text/plain": [
              "  Regressors  Train r2_score  Test r2_score     Train mse      Test mse  \\\n",
              "0         DT        0.915688       0.895326  4.339992e+11  1.268829e+12   \n",
              "1         NB        0.834748       0.912045  8.506384e+11  1.066169e+12   \n",
              "\n",
              "      Train rmse     Test rmse      Train mae      Test mae  Train mape  \\\n",
              "0  658786.155963  1.126423e+06  658786.155963  1.126423e+06    0.183853   \n",
              "1  922300.618349  1.032555e+06  922300.618349  1.032555e+06    0.257395   \n",
              "\n",
              "   Test mape  Training time  Prediction time  \n",
              "0   0.337607       0.005308         0.000420  \n",
              "1   0.309473       0.010006         0.000289  "
            ],
            "text/html": [
              "\n",
              "  <div id=\"df-5daeae40-2bce-477e-97ba-5da0885b8d44\">\n",
              "    <div class=\"colab-df-container\">\n",
              "      <div>\n",
              "<style scoped>\n",
              "    .dataframe tbody tr th:only-of-type {\n",
              "        vertical-align: middle;\n",
              "    }\n",
              "\n",
              "    .dataframe tbody tr th {\n",
              "        vertical-align: top;\n",
              "    }\n",
              "\n",
              "    .dataframe thead th {\n",
              "        text-align: right;\n",
              "    }\n",
              "</style>\n",
              "<table border=\"1\" class=\"dataframe\">\n",
              "  <thead>\n",
              "    <tr style=\"text-align: right;\">\n",
              "      <th></th>\n",
              "      <th>Regressors</th>\n",
              "      <th>Train r2_score</th>\n",
              "      <th>Test r2_score</th>\n",
              "      <th>Train mse</th>\n",
              "      <th>Test mse</th>\n",
              "      <th>Train rmse</th>\n",
              "      <th>Test rmse</th>\n",
              "      <th>Train mae</th>\n",
              "      <th>Test mae</th>\n",
              "      <th>Train mape</th>\n",
              "      <th>Test mape</th>\n",
              "      <th>Training time</th>\n",
              "      <th>Prediction time</th>\n",
              "    </tr>\n",
              "  </thead>\n",
              "  <tbody>\n",
              "    <tr>\n",
              "      <th>0</th>\n",
              "      <td>DT</td>\n",
              "      <td>0.915688</td>\n",
              "      <td>0.895326</td>\n",
              "      <td>4.339992e+11</td>\n",
              "      <td>1.268829e+12</td>\n",
              "      <td>658786.155963</td>\n",
              "      <td>1.126423e+06</td>\n",
              "      <td>658786.155963</td>\n",
              "      <td>1.126423e+06</td>\n",
              "      <td>0.183853</td>\n",
              "      <td>0.337607</td>\n",
              "      <td>0.005308</td>\n",
              "      <td>0.000420</td>\n",
              "    </tr>\n",
              "    <tr>\n",
              "      <th>1</th>\n",
              "      <td>NB</td>\n",
              "      <td>0.834748</td>\n",
              "      <td>0.912045</td>\n",
              "      <td>8.506384e+11</td>\n",
              "      <td>1.066169e+12</td>\n",
              "      <td>922300.618349</td>\n",
              "      <td>1.032555e+06</td>\n",
              "      <td>922300.618349</td>\n",
              "      <td>1.032555e+06</td>\n",
              "      <td>0.257395</td>\n",
              "      <td>0.309473</td>\n",
              "      <td>0.010006</td>\n",
              "      <td>0.000289</td>\n",
              "    </tr>\n",
              "  </tbody>\n",
              "</table>\n",
              "</div>\n",
              "      <button class=\"colab-df-convert\" onclick=\"convertToInteractive('df-5daeae40-2bce-477e-97ba-5da0885b8d44')\"\n",
              "              title=\"Convert this dataframe to an interactive table.\"\n",
              "              style=\"display:none;\">\n",
              "        \n",
              "  <svg xmlns=\"http://www.w3.org/2000/svg\" height=\"24px\"viewBox=\"0 0 24 24\"\n",
              "       width=\"24px\">\n",
              "    <path d=\"M0 0h24v24H0V0z\" fill=\"none\"/>\n",
              "    <path d=\"M18.56 5.44l.94 2.06.94-2.06 2.06-.94-2.06-.94-.94-2.06-.94 2.06-2.06.94zm-11 1L8.5 8.5l.94-2.06 2.06-.94-2.06-.94L8.5 2.5l-.94 2.06-2.06.94zm10 10l.94 2.06.94-2.06 2.06-.94-2.06-.94-.94-2.06-.94 2.06-2.06.94z\"/><path d=\"M17.41 7.96l-1.37-1.37c-.4-.4-.92-.59-1.43-.59-.52 0-1.04.2-1.43.59L10.3 9.45l-7.72 7.72c-.78.78-.78 2.05 0 2.83L4 21.41c.39.39.9.59 1.41.59.51 0 1.02-.2 1.41-.59l7.78-7.78 2.81-2.81c.8-.78.8-2.07 0-2.86zM5.41 20L4 18.59l7.72-7.72 1.47 1.35L5.41 20z\"/>\n",
              "  </svg>\n",
              "      </button>\n",
              "      \n",
              "  <style>\n",
              "    .colab-df-container {\n",
              "      display:flex;\n",
              "      flex-wrap:wrap;\n",
              "      gap: 12px;\n",
              "    }\n",
              "\n",
              "    .colab-df-convert {\n",
              "      background-color: #E8F0FE;\n",
              "      border: none;\n",
              "      border-radius: 50%;\n",
              "      cursor: pointer;\n",
              "      display: none;\n",
              "      fill: #1967D2;\n",
              "      height: 32px;\n",
              "      padding: 0 0 0 0;\n",
              "      width: 32px;\n",
              "    }\n",
              "\n",
              "    .colab-df-convert:hover {\n",
              "      background-color: #E2EBFA;\n",
              "      box-shadow: 0px 1px 2px rgba(60, 64, 67, 0.3), 0px 1px 3px 1px rgba(60, 64, 67, 0.15);\n",
              "      fill: #174EA6;\n",
              "    }\n",
              "\n",
              "    [theme=dark] .colab-df-convert {\n",
              "      background-color: #3B4455;\n",
              "      fill: #D2E3FC;\n",
              "    }\n",
              "\n",
              "    [theme=dark] .colab-df-convert:hover {\n",
              "      background-color: #434B5C;\n",
              "      box-shadow: 0px 1px 3px 1px rgba(0, 0, 0, 0.15);\n",
              "      filter: drop-shadow(0px 1px 2px rgba(0, 0, 0, 0.3));\n",
              "      fill: #FFFFFF;\n",
              "    }\n",
              "  </style>\n",
              "\n",
              "      <script>\n",
              "        const buttonEl =\n",
              "          document.querySelector('#df-5daeae40-2bce-477e-97ba-5da0885b8d44 button.colab-df-convert');\n",
              "        buttonEl.style.display =\n",
              "          google.colab.kernel.accessAllowed ? 'block' : 'none';\n",
              "\n",
              "        async function convertToInteractive(key) {\n",
              "          const element = document.querySelector('#df-5daeae40-2bce-477e-97ba-5da0885b8d44');\n",
              "          const dataTable =\n",
              "            await google.colab.kernel.invokeFunction('convertToInteractive',\n",
              "                                                     [key], {});\n",
              "          if (!dataTable) return;\n",
              "\n",
              "          const docLinkHtml = 'Like what you see? Visit the ' +\n",
              "            '<a target=\"_blank\" href=https://colab.research.google.com/notebooks/data_table.ipynb>data table notebook</a>'\n",
              "            + ' to learn more about interactive tables.';\n",
              "          element.innerHTML = '';\n",
              "          dataTable['output_type'] = 'display_data';\n",
              "          await google.colab.output.renderOutput(dataTable, element);\n",
              "          const docLink = document.createElement('div');\n",
              "          docLink.innerHTML = docLinkHtml;\n",
              "          element.appendChild(docLink);\n",
              "        }\n",
              "      </script>\n",
              "    </div>\n",
              "  </div>\n",
              "  "
            ]
          },
          "metadata": {},
          "execution_count": 50
        }
      ]
    },
    {
      "cell_type": "code",
      "source": [
        "import matplotlib.pyplot as plt\n",
        "x = np.arange(len(s1))\n",
        "plt.figure(figsize=(10,5))\n",
        "plt.bar(x+0.2, result['Train r2_score'], color ='blue',width = 0.4)\n",
        "plt.bar(x-0.2, result['Test r2_score'], color ='red',width = 0.4)\n",
        "plt.xticks(x, result.Regressors.values.tolist())\n",
        "plt.xticks(rotation=90)\n",
        "plt.legend(['Train r2_score','Test r2_score'])\n",
        "plt.title('Models vs r2_score', fontsize = 20)\n",
        "plt.xlabel('Models', fontsize = 15)\n",
        "plt.ylabel('r2_score', fontsize = 15)\n",
        "plt.grid()\n",
        "plt.show()"
      ],
      "metadata": {
        "colab": {
          "base_uri": "https://localhost:8080/",
          "height": 364
        },
        "outputId": "0818e482-2ca6-4822-8cd6-eb763bf94dd4",
        "id": "PkxLcEhN8xwg"
      },
      "execution_count": null,
      "outputs": [
        {
          "output_type": "display_data",
          "data": {
            "text/plain": [
              "<Figure size 720x360 with 1 Axes>"
            ],
            "image/png": "[encoded data removed]"
          },
          "metadata": {
            "needs_background": "light"
          }
        }
      ]
    },
    {
      "cell_type": "code",
      "source": [
        "plt.bar(x, result['Test r2_score'], color ='green',width = 0.4)\n",
        "plt.xticks(x, result.Regressors.values.tolist())\n",
        "plt.legend(['Test r2_score'])\n",
        "plt.xticks(rotation=90)\n",
        "plt.grid()\n",
        "plt.show()"
      ],
      "metadata": {
        "colab": {
          "base_uri": "https://localhost:8080/",
          "height": 270
        },
        "outputId": "de5a7443-4652-4b92-e9aa-8d5983a0cb0e",
        "id": "dVtXLIhW8xwh"
      },
      "execution_count": null,
      "outputs": [
        {
          "output_type": "display_data",
          "data": {
            "text/plain": [
              "<Figure size 432x288 with 1 Axes>"
            ],
            "image/png": "[encoded data removed]"
          },
          "metadata": {
            "needs_background": "light"
          }
        }
      ]
    },
    {
      "cell_type": "markdown",
      "source": [
        "**LR vs Light GBM**"
      ],
      "metadata": {
        "id": "fNTzGzYL8M8Q"
      }
    },
    {
      "cell_type": "code",
      "source": [
        "s1 = [LR,LGBM]\n",
        "s2 = ['LR','Light GBM']\n",
        "col=['Train r2_score','Test r2_score','Train mse','Test mse','Train rmse','Test rmse',\n",
        "     'Train mae','Test mae','Train mape','Test mape','Training time','Prediction time']\n",
        "\n",
        "result=dict.fromkeys(s2,None)\n",
        "\n",
        "for i in range(len(s1)):\n",
        "    result[s2[i]] = s1[i]\n",
        "\n",
        "temp = pd.DataFrame.from_dict(result, orient='index',columns=col).reset_index()\n",
        "result = temp.rename(columns={'index':'Regressors'})"
      ],
      "metadata": {
        "id": "3vKUChj28ydD"
      },
      "execution_count": null,
      "outputs": []
    },
    {
      "cell_type": "code",
      "source": [
        "#without using cnn output layer\n",
        "result"
      ],
      "metadata": {
        "colab": {
          "base_uri": "https://localhost:8080/",
          "height": 193
        },
        "outputId": "3c553a78-efc7-41e0-b8e1-ca54fc8758dd",
        "id": "JCnezzfC8ydE"
      },
      "execution_count": null,
      "outputs": [
        {
          "output_type": "execute_result",
          "data": {
            "text/plain": [
              "  Regressors  Train r2_score  Test r2_score     Train mse      Test mse  \\\n",
              "0         LR        0.878591       0.895326  6.249588e+11  1.268829e+12   \n",
              "1  Light GBM        0.936672       0.927310  3.259816e+11  8.811312e+11   \n",
              "\n",
              "      Train rmse     Test rmse      Train mae      Test mae  Train mape  \\\n",
              "0  790543.387156  1.126423e+06  790543.387156  1.126423e+06    0.220624   \n",
              "1  570948.001835  9.386859e+05  570948.001835  9.386859e+05    0.159339   \n",
              "\n",
              "   Test mape  Training time  Prediction time  \n",
              "0   0.337607       0.010521         0.000263  \n",
              "1   0.281339       0.010590         0.000274  "
            ],
            "text/html": [
              "\n",
              "  <div id=\"df-c558f4c7-1a03-4812-b391-2d0e944ca66f\">\n",
              "    <div class=\"colab-df-container\">\n",
              "      <div>\n",
              "<style scoped>\n",
              "    .dataframe tbody tr th:only-of-type {\n",
              "        vertical-align: middle;\n",
              "    }\n",
              "\n",
              "    .dataframe tbody tr th {\n",
              "        vertical-align: top;\n",
              "    }\n",
              "\n",
              "    .dataframe thead th {\n",
              "        text-align: right;\n",
              "    }\n",
              "</style>\n",
              "<table border=\"1\" class=\"dataframe\">\n",
              "  <thead>\n",
              "    <tr style=\"text-align: right;\">\n",
              "      <th></th>\n",
              "      <th>Regressors</th>\n",
              "      <th>Train r2_score</th>\n",
              "      <th>Test r2_score</th>\n",
              "      <th>Train mse</th>\n",
              "      <th>Test mse</th>\n",
              "      <th>Train rmse</th>\n",
              "      <th>Test rmse</th>\n",
              "      <th>Train mae</th>\n",
              "      <th>Test mae</th>\n",
              "      <th>Train mape</th>\n",
              "      <th>Test mape</th>\n",
              "      <th>Training time</th>\n",
              "      <th>Prediction time</th>\n",
              "    </tr>\n",
              "  </thead>\n",
              "  <tbody>\n",
              "    <tr>\n",
              "      <th>0</th>\n",
              "      <td>LR</td>\n",
              "      <td>0.878591</td>\n",
              "      <td>0.895326</td>\n",
              "      <td>6.249588e+11</td>\n",
              "      <td>1.268829e+12</td>\n",
              "      <td>790543.387156</td>\n",
              "      <td>1.126423e+06</td>\n",
              "      <td>790543.387156</td>\n",
              "      <td>1.126423e+06</td>\n",
              "      <td>0.220624</td>\n",
              "      <td>0.337607</td>\n",
              "      <td>0.010521</td>\n",
              "      <td>0.000263</td>\n",
              "    </tr>\n",
              "    <tr>\n",
              "      <th>1</th>\n",
              "      <td>Light GBM</td>\n",
              "      <td>0.936672</td>\n",
              "      <td>0.927310</td>\n",
              "      <td>3.259816e+11</td>\n",
              "      <td>8.811312e+11</td>\n",
              "      <td>570948.001835</td>\n",
              "      <td>9.386859e+05</td>\n",
              "      <td>570948.001835</td>\n",
              "      <td>9.386859e+05</td>\n",
              "      <td>0.159339</td>\n",
              "      <td>0.281339</td>\n",
              "      <td>0.010590</td>\n",
              "      <td>0.000274</td>\n",
              "    </tr>\n",
              "  </tbody>\n",
              "</table>\n",
              "</div>\n",
              "      <button class=\"colab-df-convert\" onclick=\"convertToInteractive('df-c558f4c7-1a03-4812-b391-2d0e944ca66f')\"\n",
              "              title=\"Convert this dataframe to an interactive table.\"\n",
              "              style=\"display:none;\">\n",
              "        \n",
              "  <svg xmlns=\"http://www.w3.org/2000/svg\" height=\"24px\"viewBox=\"0 0 24 24\"\n",
              "       width=\"24px\">\n",
              "    <path d=\"M0 0h24v24H0V0z\" fill=\"none\"/>\n",
              "    <path d=\"M18.56 5.44l.94 2.06.94-2.06 2.06-.94-2.06-.94-.94-2.06-.94 2.06-2.06.94zm-11 1L8.5 8.5l.94-2.06 2.06-.94-2.06-.94L8.5 2.5l-.94 2.06-2.06.94zm10 10l.94 2.06.94-2.06 2.06-.94-2.06-.94-.94-2.06-.94 2.06-2.06.94z\"/><path d=\"M17.41 7.96l-1.37-1.37c-.4-.4-.92-.59-1.43-.59-.52 0-1.04.2-1.43.59L10.3 9.45l-7.72 7.72c-.78.78-.78 2.05 0 2.83L4 21.41c.39.39.9.59 1.41.59.51 0 1.02-.2 1.41-.59l7.78-7.78 2.81-2.81c.8-.78.8-2.07 0-2.86zM5.41 20L4 18.59l7.72-7.72 1.47 1.35L5.41 20z\"/>\n",
              "  </svg>\n",
              "      </button>\n",
              "      \n",
              "  <style>\n",
              "    .colab-df-container {\n",
              "      display:flex;\n",
              "      flex-wrap:wrap;\n",
              "      gap: 12px;\n",
              "    }\n",
              "\n",
              "    .colab-df-convert {\n",
              "      background-color: #E8F0FE;\n",
              "      border: none;\n",
              "      border-radius: 50%;\n",
              "      cursor: pointer;\n",
              "      display: none;\n",
              "      fill: #1967D2;\n",
              "      height: 32px;\n",
              "      padding: 0 0 0 0;\n",
              "      width: 32px;\n",
              "    }\n",
              "\n",
              "    .colab-df-convert:hover {\n",
              "      background-color: #E2EBFA;\n",
              "      box-shadow: 0px 1px 2px rgba(60, 64, 67, 0.3), 0px 1px 3px 1px rgba(60, 64, 67, 0.15);\n",
              "      fill: #174EA6;\n",
              "    }\n",
              "\n",
              "    [theme=dark] .colab-df-convert {\n",
              "      background-color: #3B4455;\n",
              "      fill: #D2E3FC;\n",
              "    }\n",
              "\n",
              "    [theme=dark] .colab-df-convert:hover {\n",
              "      background-color: #434B5C;\n",
              "      box-shadow: 0px 1px 3px 1px rgba(0, 0, 0, 0.15);\n",
              "      filter: drop-shadow(0px 1px 2px rgba(0, 0, 0, 0.3));\n",
              "      fill: #FFFFFF;\n",
              "    }\n",
              "  </style>\n",
              "\n",
              "      <script>\n",
              "        const buttonEl =\n",
              "          document.querySelector('#df-c558f4c7-1a03-4812-b391-2d0e944ca66f button.colab-df-convert');\n",
              "        buttonEl.style.display =\n",
              "          google.colab.kernel.accessAllowed ? 'block' : 'none';\n",
              "\n",
              "        async function convertToInteractive(key) {\n",
              "          const element = document.querySelector('#df-c558f4c7-1a03-4812-b391-2d0e944ca66f');\n",
              "          const dataTable =\n",
              "            await google.colab.kernel.invokeFunction('convertToInteractive',\n",
              "                                                     [key], {});\n",
              "          if (!dataTable) return;\n",
              "\n",
              "          const docLinkHtml = 'Like what you see? Visit the ' +\n",
              "            '<a target=\"_blank\" href=https://colab.research.google.com/notebooks/data_table.ipynb>data table notebook</a>'\n",
              "            + ' to learn more about interactive tables.';\n",
              "          element.innerHTML = '';\n",
              "          dataTable['output_type'] = 'display_data';\n",
              "          await google.colab.output.renderOutput(dataTable, element);\n",
              "          const docLink = document.createElement('div');\n",
              "          docLink.innerHTML = docLinkHtml;\n",
              "          element.appendChild(docLink);\n",
              "        }\n",
              "      </script>\n",
              "    </div>\n",
              "  </div>\n",
              "  "
            ]
          },
          "metadata": {},
          "execution_count": 57
        }
      ]
    },
    {
      "cell_type": "code",
      "source": [
        "import matplotlib.pyplot as plt\n",
        "x = np.arange(len(s1))\n",
        "plt.figure(figsize=(10,5))\n",
        "plt.bar(x+0.2, result['Train r2_score'], color ='blue',width = 0.4)\n",
        "plt.bar(x-0.2, result['Test r2_score'], color ='red',width = 0.4)\n",
        "plt.xticks(x, result.Regressors.values.tolist())\n",
        "plt.xticks(rotation=90)\n",
        "plt.legend(['Train r2_score','Test r2_score'])\n",
        "plt.title('Models vs r2_score', fontsize = 20)\n",
        "plt.xlabel('Models', fontsize = 15)\n",
        "plt.ylabel('r2_score', fontsize = 15)\n",
        "plt.grid()\n",
        "plt.show()"
      ],
      "metadata": {
        "colab": {
          "base_uri": "https://localhost:8080/",
          "height": 401
        },
        "outputId": "86639ef6-14b4-4d8c-b0ab-3a92b6a01b44",
        "id": "0-pibLdY8ydF"
      },
      "execution_count": null,
      "outputs": [
        {
          "output_type": "display_data",
          "data": {
            "text/plain": [
              "<Figure size 720x360 with 1 Axes>"
            ],
            "image/png": "[encoded data removed]"
          },
          "metadata": {
            "needs_background": "light"
          }
        }
      ]
    },
    {
      "cell_type": "code",
      "source": [
        "plt.bar(x, result['Test r2_score'], color ='green',width = 0.4)\n",
        "plt.xticks(x, result.Regressors.values.tolist())\n",
        "plt.legend(['Test r2_score'])\n",
        "plt.xticks(rotation=90)\n",
        "plt.grid()\n",
        "plt.show()"
      ],
      "metadata": {
        "colab": {
          "base_uri": "https://localhost:8080/",
          "height": 307
        },
        "outputId": "d2de8645-02a3-4d07-fb02-f284e89b7ef6",
        "id": "OcJ2S3ub8ydF"
      },
      "execution_count": null,
      "outputs": [
        {
          "output_type": "display_data",
          "data": {
            "text/plain": [
              "<Figure size 432x288 with 1 Axes>"
            ],
            "image/png": "[encoded data removed]"
          },
          "metadata": {
            "needs_background": "light"
          }
        }
      ]
    },
    {
      "cell_type": "markdown",
      "source": [
        "**NB vs SVM**"
      ],
      "metadata": {
        "id": "DjNMaqvL8Mp4"
      }
    },
    {
      "cell_type": "code",
      "source": [
        "s1 = [SVR,NB]\n",
        "s2 = ['SVM','NB']\n",
        "col=['Train r2_score','Test r2_score','Train mse','Test mse','Train rmse','Test rmse',\n",
        "     'Train mae','Test mae','Train mape','Test mape','Training time','Prediction time']\n",
        "\n",
        "result=dict.fromkeys(s2,None)\n",
        "\n",
        "for i in range(len(s1)):\n",
        "    result[s2[i]] = s1[i]\n",
        "\n",
        "temp = pd.DataFrame.from_dict(result, orient='index',columns=col).reset_index()\n",
        "result = temp.rename(columns={'index':'Regressors'})"
      ],
      "metadata": {
        "id": "O6ndrKBS8y-s"
      },
      "execution_count": null,
      "outputs": []
    },
    {
      "cell_type": "code",
      "source": [
        "#without using cnn output layer\n",
        "result"
      ],
      "metadata": {
        "colab": {
          "base_uri": "https://localhost:8080/",
          "height": 193
        },
        "outputId": "11f7505e-95a6-44b4-bb94-83da07deba37",
        "id": "AfDE7bFy8y-s"
      },
      "execution_count": null,
      "outputs": [
        {
          "output_type": "execute_result",
          "data": {
            "text/plain": [
              "  Regressors  Train r2_score  Test r2_score     Train mse      Test mse  \\\n",
              "0        SVM        0.962528       0.981827  1.928885e+11  2.202828e+11   \n",
              "1         NB        0.834748       0.912045  8.506384e+11  1.066169e+12   \n",
              "\n",
              "      Train rmse     Test rmse      Train mae      Test mae  Train mape  \\\n",
              "0  439190.770642  4.693430e+05  439190.770642  4.693430e+05    0.122569   \n",
              "1  922300.618349  1.032555e+06  922300.618349  1.032555e+06    0.257395   \n",
              "\n",
              "   Test mape  Training time  Prediction time  \n",
              "0   0.140670       0.003469         0.001087  \n",
              "1   0.309473       0.010006         0.000289  "
            ],
            "text/html": [
              "\n",
              "  <div id=\"df-9d38155f-44ca-499c-9fce-7a308ee71f81\">\n",
              "    <div class=\"colab-df-container\">\n",
              "      <div>\n",
              "<style scoped>\n",
              "    .dataframe tbody tr th:only-of-type {\n",
              "        vertical-align: middle;\n",
              "    }\n",
              "\n",
              "    .dataframe tbody tr th {\n",
              "        vertical-align: top;\n",
              "    }\n",
              "\n",
              "    .dataframe thead th {\n",
              "        text-align: right;\n",
              "    }\n",
              "</style>\n",
              "<table border=\"1\" class=\"dataframe\">\n",
              "  <thead>\n",
              "    <tr style=\"text-align: right;\">\n",
              "      <th></th>\n",
              "      <th>Regressors</th>\n",
              "      <th>Train r2_score</th>\n",
              "      <th>Test r2_score</th>\n",
              "      <th>Train mse</th>\n",
              "      <th>Test mse</th>\n",
              "      <th>Train rmse</th>\n",
              "      <th>Test rmse</th>\n",
              "      <th>Train mae</th>\n",
              "      <th>Test mae</th>\n",
              "      <th>Train mape</th>\n",
              "      <th>Test mape</th>\n",
              "      <th>Training time</th>\n",
              "      <th>Prediction time</th>\n",
              "    </tr>\n",
              "  </thead>\n",
              "  <tbody>\n",
              "    <tr>\n",
              "      <th>0</th>\n",
              "      <td>SVM</td>\n",
              "      <td>0.962528</td>\n",
              "      <td>0.981827</td>\n",
              "      <td>1.928885e+11</td>\n",
              "      <td>2.202828e+11</td>\n",
              "      <td>439190.770642</td>\n",
              "      <td>4.693430e+05</td>\n",
              "      <td>439190.770642</td>\n",
              "      <td>4.693430e+05</td>\n",
              "      <td>0.122569</td>\n",
              "      <td>0.140670</td>\n",
              "      <td>0.003469</td>\n",
              "      <td>0.001087</td>\n",
              "    </tr>\n",
              "    <tr>\n",
              "      <th>1</th>\n",
              "      <td>NB</td>\n",
              "      <td>0.834748</td>\n",
              "      <td>0.912045</td>\n",
              "      <td>8.506384e+11</td>\n",
              "      <td>1.066169e+12</td>\n",
              "      <td>922300.618349</td>\n",
              "      <td>1.032555e+06</td>\n",
              "      <td>922300.618349</td>\n",
              "      <td>1.032555e+06</td>\n",
              "      <td>0.257395</td>\n",
              "      <td>0.309473</td>\n",
              "      <td>0.010006</td>\n",
              "      <td>0.000289</td>\n",
              "    </tr>\n",
              "  </tbody>\n",
              "</table>\n",
              "</div>\n",
              "      <button class=\"colab-df-convert\" onclick=\"convertToInteractive('df-9d38155f-44ca-499c-9fce-7a308ee71f81')\"\n",
              "              title=\"Convert this dataframe to an interactive table.\"\n",
              "              style=\"display:none;\">\n",
              "        \n",
              "  <svg xmlns=\"http://www.w3.org/2000/svg\" height=\"24px\"viewBox=\"0 0 24 24\"\n",
              "       width=\"24px\">\n",
              "    <path d=\"M0 0h24v24H0V0z\" fill=\"none\"/>\n",
              "    <path d=\"M18.56 5.44l.94 2.06.94-2.06 2.06-.94-2.06-.94-.94-2.06-.94 2.06-2.06.94zm-11 1L8.5 8.5l.94-2.06 2.06-.94-2.06-.94L8.5 2.5l-.94 2.06-2.06.94zm10 10l.94 2.06.94-2.06 2.06-.94-2.06-.94-.94-2.06-.94 2.06-2.06.94z\"/><path d=\"M17.41 7.96l-1.37-1.37c-.4-.4-.92-.59-1.43-.59-.52 0-1.04.2-1.43.59L10.3 9.45l-7.72 7.72c-.78.78-.78 2.05 0 2.83L4 21.41c.39.39.9.59 1.41.59.51 0 1.02-.2 1.41-.59l7.78-7.78 2.81-2.81c.8-.78.8-2.07 0-2.86zM5.41 20L4 18.59l7.72-7.72 1.47 1.35L5.41 20z\"/>\n",
              "  </svg>\n",
              "      </button>\n",
              "      \n",
              "  <style>\n",
              "    .colab-df-container {\n",
              "      display:flex;\n",
              "      flex-wrap:wrap;\n",
              "      gap: 12px;\n",
              "    }\n",
              "\n",
              "    .colab-df-convert {\n",
              "      background-color: #E8F0FE;\n",
              "      border: none;\n",
              "      border-radius: 50%;\n",
              "      cursor: pointer;\n",
              "      display: none;\n",
              "      fill: #1967D2;\n",
              "      height: 32px;\n",
              "      padding: 0 0 0 0;\n",
              "      width: 32px;\n",
              "    }\n",
              "\n",
              "    .colab-df-convert:hover {\n",
              "      background-color: #E2EBFA;\n",
              "      box-shadow: 0px 1px 2px rgba(60, 64, 67, 0.3), 0px 1px 3px 1px rgba(60, 64, 67, 0.15);\n",
              "      fill: #174EA6;\n",
              "    }\n",
              "\n",
              "    [theme=dark] .colab-df-convert {\n",
              "      background-color: #3B4455;\n",
              "      fill: #D2E3FC;\n",
              "    }\n",
              "\n",
              "    [theme=dark] .colab-df-convert:hover {\n",
              "      background-color: #434B5C;\n",
              "      box-shadow: 0px 1px 3px 1px rgba(0, 0, 0, 0.15);\n",
              "      filter: drop-shadow(0px 1px 2px rgba(0, 0, 0, 0.3));\n",
              "      fill: #FFFFFF;\n",
              "    }\n",
              "  </style>\n",
              "\n",
              "      <script>\n",
              "        const buttonEl =\n",
              "          document.querySelector('#df-9d38155f-44ca-499c-9fce-7a308ee71f81 button.colab-df-convert');\n",
              "        buttonEl.style.display =\n",
              "          google.colab.kernel.accessAllowed ? 'block' : 'none';\n",
              "\n",
              "        async function convertToInteractive(key) {\n",
              "          const element = document.querySelector('#df-9d38155f-44ca-499c-9fce-7a308ee71f81');\n",
              "          const dataTable =\n",
              "            await google.colab.kernel.invokeFunction('convertToInteractive',\n",
              "                                                     [key], {});\n",
              "          if (!dataTable) return;\n",
              "\n",
              "          const docLinkHtml = 'Like what you see? Visit the ' +\n",
              "            '<a target=\"_blank\" href=https://colab.research.google.com/notebooks/data_table.ipynb>data table notebook</a>'\n",
              "            + ' to learn more about interactive tables.';\n",
              "          element.innerHTML = '';\n",
              "          dataTable['output_type'] = 'display_data';\n",
              "          await google.colab.output.renderOutput(dataTable, element);\n",
              "          const docLink = document.createElement('div');\n",
              "          docLink.innerHTML = docLinkHtml;\n",
              "          element.appendChild(docLink);\n",
              "        }\n",
              "      </script>\n",
              "    </div>\n",
              "  </div>\n",
              "  "
            ]
          },
          "metadata": {},
          "execution_count": 61
        }
      ]
    },
    {
      "cell_type": "code",
      "source": [
        "import matplotlib.pyplot as plt\n",
        "x = np.arange(len(s1))\n",
        "plt.figure(figsize=(10,5))\n",
        "plt.bar(x+0.2, result['Train r2_score'], color ='blue',width = 0.4)\n",
        "plt.bar(x-0.2, result['Test r2_score'], color ='red',width = 0.4)\n",
        "plt.xticks(x, result.Regressors.values.tolist())\n",
        "plt.xticks(rotation=90)\n",
        "plt.legend(['Train r2_score','Test r2_score'])\n",
        "plt.title('Models vs r2_score', fontsize = 20)\n",
        "plt.xlabel('Models', fontsize = 15)\n",
        "plt.ylabel('r2_score', fontsize = 15)\n",
        "plt.grid()\n",
        "plt.show()"
      ],
      "metadata": {
        "colab": {
          "base_uri": "https://localhost:8080/",
          "height": 371
        },
        "outputId": "bd0d1998-d648-4e11-d200-89efe337b545",
        "id": "983t86lQ8y-t"
      },
      "execution_count": null,
      "outputs": [
        {
          "output_type": "display_data",
          "data": {
            "text/plain": [
              "<Figure size 720x360 with 1 Axes>"
            ],
            "image/png": "[encoded data removed]"
          },
          "metadata": {
            "needs_background": "light"
          }
        }
      ]
    },
    {
      "cell_type": "code",
      "source": [
        "plt.bar(x, result['Test r2_score'], color ='green',width = 0.4)\n",
        "plt.xticks(x, result.Regressors.values.tolist())\n",
        "plt.legend(['Test r2_score'])\n",
        "plt.xticks(rotation=90)\n",
        "plt.grid()\n",
        "plt.show()"
      ],
      "metadata": {
        "colab": {
          "base_uri": "https://localhost:8080/",
          "height": 277
        },
        "outputId": "7826e3ac-d919-4b31-b4d1-e433efceee9c",
        "id": "W99r49Ig8y-t"
      },
      "execution_count": null,
      "outputs": [
        {
          "output_type": "display_data",
          "data": {
            "text/plain": [
              "<Figure size 432x288 with 1 Axes>"
            ],
            "image/png": "[encoded data removed]"
          },
          "metadata": {
            "needs_background": "light"
          }
        }
      ]
    },
    {
      "cell_type": "markdown",
      "source": [
        "**Final Results**"
      ],
      "metadata": {
        "id": "XhVuGTin8Thb"
      }
    },
    {
      "cell_type": "code",
      "source": [
        "s1 = [SVR,NB,LGBM,DT,LR]\n",
        "s2 = ['SVM','NB','Light GBM','DT','LR']\n",
        "col=['Train r2_score','Test r2_score','Train mse','Test mse','Train rmse','Test rmse',\n",
        "     'Train mae','Test mae','Train mape','Test mape','Training time','Prediction time']\n",
        "\n",
        "result=dict.fromkeys(s2,None)\n",
        "\n",
        "for i in range(len(s1)):\n",
        "    result[s2[i]] = s1[i]\n",
        "\n",
        "temp = pd.DataFrame.from_dict(result, orient='index',columns=col).reset_index()\n",
        "result = temp.rename(columns={'index':'Regressors'})"
      ],
      "metadata": {
        "id": "FPIBuEAfwhZZ"
      },
      "execution_count": null,
      "outputs": []
    },
    {
      "cell_type": "code",
      "source": [
        "#without using cnn output layer\n",
        "result"
      ],
      "metadata": {
        "colab": {
          "base_uri": "https://localhost:8080/",
          "height": 287
        },
        "id": "SJeeacg9wrj7",
        "outputId": "8c1c8899-4e02-49f5-f265-eddeacca55ba"
      },
      "execution_count": null,
      "outputs": [
        {
          "output_type": "execute_result",
          "data": {
            "text/plain": [
              "  Regressors  Train r2_score  Test r2_score     Train mse      Test mse  \\\n",
              "0        SVM        0.962528       0.981827  1.928885e+11  2.202828e+11   \n",
              "1         NB        0.834748       0.912045  8.506384e+11  1.066169e+12   \n",
              "2  Light GBM        0.936672       0.927310  3.259816e+11  8.811312e+11   \n",
              "3         DT        0.915688       0.895326  4.339992e+11  1.268829e+12   \n",
              "4         LR        0.878591       0.895326  6.249588e+11  1.268829e+12   \n",
              "\n",
              "      Train rmse     Test rmse      Train mae      Test mae  Train mape  \\\n",
              "0  439190.770642  4.693430e+05  439190.770642  4.693430e+05    0.122569   \n",
              "1  922300.618349  1.032555e+06  922300.618349  1.032555e+06    0.257395   \n",
              "2  570948.001835  9.386859e+05  570948.001835  9.386859e+05    0.159339   \n",
              "3  658786.155963  1.126423e+06  658786.155963  1.126423e+06    0.183853   \n",
              "4  790543.387156  1.126423e+06  790543.387156  1.126423e+06    0.220624   \n",
              "\n",
              "   Test mape  Training time  Prediction time  \n",
              "0   0.140670       0.003469         0.001087  \n",
              "1   0.309473       0.010006         0.000289  \n",
              "2   0.281339       0.010590         0.000274  \n",
              "3   0.337607       0.005308         0.000420  \n",
              "4   0.337607       0.010521         0.000263  "
            ],
            "text/html": [
              "\n",
              "  <div id=\"df-e77ba27b-211c-4c55-9118-6aac59bc53d8\">\n",
              "    <div class=\"colab-df-container\">\n",
              "      <div>\n",
              "<style scoped>\n",
              "    .dataframe tbody tr th:only-of-type {\n",
              "        vertical-align: middle;\n",
              "    }\n",
              "\n",
              "    .dataframe tbody tr th {\n",
              "        vertical-align: top;\n",
              "    }\n",
              "\n",
              "    .dataframe thead th {\n",
              "        text-align: right;\n",
              "    }\n",
              "</style>\n",
              "<table border=\"1\" class=\"dataframe\">\n",
              "  <thead>\n",
              "    <tr style=\"text-align: right;\">\n",
              "      <th></th>\n",
              "      <th>Regressors</th>\n",
              "      <th>Train r2_score</th>\n",
              "      <th>Test r2_score</th>\n",
              "      <th>Train mse</th>\n",
              "      <th>Test mse</th>\n",
              "      <th>Train rmse</th>\n",
              "      <th>Test rmse</th>\n",
              "      <th>Train mae</th>\n",
              "      <th>Test mae</th>\n",
              "      <th>Train mape</th>\n",
              "      <th>Test mape</th>\n",
              "      <th>Training time</th>\n",
              "      <th>Prediction time</th>\n",
              "    </tr>\n",
              "  </thead>\n",
              "  <tbody>\n",
              "    <tr>\n",
              "      <th>0</th>\n",
              "      <td>SVM</td>\n",
              "      <td>0.962528</td>\n",
              "      <td>0.981827</td>\n",
              "      <td>1.928885e+11</td>\n",
              "      <td>2.202828e+11</td>\n",
              "      <td>439190.770642</td>\n",
              "      <td>4.693430e+05</td>\n",
              "      <td>439190.770642</td>\n",
              "      <td>4.693430e+05</td>\n",
              "      <td>0.122569</td>\n",
              "      <td>0.140670</td>\n",
              "      <td>0.003469</td>\n",
              "      <td>0.001087</td>\n",
              "    </tr>\n",
              "    <tr>\n",
              "      <th>1</th>\n",
              "      <td>NB</td>\n",
              "      <td>0.834748</td>\n",
              "      <td>0.912045</td>\n",
              "      <td>8.506384e+11</td>\n",
              "      <td>1.066169e+12</td>\n",
              "      <td>922300.618349</td>\n",
              "      <td>1.032555e+06</td>\n",
              "      <td>922300.618349</td>\n",
              "      <td>1.032555e+06</td>\n",
              "      <td>0.257395</td>\n",
              "      <td>0.309473</td>\n",
              "      <td>0.010006</td>\n",
              "      <td>0.000289</td>\n",
              "    </tr>\n",
              "    <tr>\n",
              "      <th>2</th>\n",
              "      <td>Light GBM</td>\n",
              "      <td>0.936672</td>\n",
              "      <td>0.927310</td>\n",
              "      <td>3.259816e+11</td>\n",
              "      <td>8.811312e+11</td>\n",
              "      <td>570948.001835</td>\n",
              "      <td>9.386859e+05</td>\n",
              "      <td>570948.001835</td>\n",
              "      <td>9.386859e+05</td>\n",
              "      <td>0.159339</td>\n",
              "      <td>0.281339</td>\n",
              "      <td>0.010590</td>\n",
              "      <td>0.000274</td>\n",
              "    </tr>\n",
              "    <tr>\n",
              "      <th>3</th>\n",
              "      <td>DT</td>\n",
              "      <td>0.915688</td>\n",
              "      <td>0.895326</td>\n",
              "      <td>4.339992e+11</td>\n",
              "      <td>1.268829e+12</td>\n",
              "      <td>658786.155963</td>\n",
              "      <td>1.126423e+06</td>\n",
              "      <td>658786.155963</td>\n",
              "      <td>1.126423e+06</td>\n",
              "      <td>0.183853</td>\n",
              "      <td>0.337607</td>\n",
              "      <td>0.005308</td>\n",
              "      <td>0.000420</td>\n",
              "    </tr>\n",
              "    <tr>\n",
              "      <th>4</th>\n",
              "      <td>LR</td>\n",
              "      <td>0.878591</td>\n",
              "      <td>0.895326</td>\n",
              "      <td>6.249588e+11</td>\n",
              "      <td>1.268829e+12</td>\n",
              "      <td>790543.387156</td>\n",
              "      <td>1.126423e+06</td>\n",
              "      <td>790543.387156</td>\n",
              "      <td>1.126423e+06</td>\n",
              "      <td>0.220624</td>\n",
              "      <td>0.337607</td>\n",
              "      <td>0.010521</td>\n",
              "      <td>0.000263</td>\n",
              "    </tr>\n",
              "  </tbody>\n",
              "</table>\n",
              "</div>\n",
              "      <button class=\"colab-df-convert\" onclick=\"convertToInteractive('df-e77ba27b-211c-4c55-9118-6aac59bc53d8')\"\n",
              "              title=\"Convert this dataframe to an interactive table.\"\n",
              "              style=\"display:none;\">\n",
              "        \n",
              "  <svg xmlns=\"http://www.w3.org/2000/svg\" height=\"24px\"viewBox=\"0 0 24 24\"\n",
              "       width=\"24px\">\n",
              "    <path d=\"M0 0h24v24H0V0z\" fill=\"none\"/>\n",
              "    <path d=\"M18.56 5.44l.94 2.06.94-2.06 2.06-.94-2.06-.94-.94-2.06-.94 2.06-2.06.94zm-11 1L8.5 8.5l.94-2.06 2.06-.94-2.06-.94L8.5 2.5l-.94 2.06-2.06.94zm10 10l.94 2.06.94-2.06 2.06-.94-2.06-.94-.94-2.06-.94 2.06-2.06.94z\"/><path d=\"M17.41 7.96l-1.37-1.37c-.4-.4-.92-.59-1.43-.59-.52 0-1.04.2-1.43.59L10.3 9.45l-7.72 7.72c-.78.78-.78 2.05 0 2.83L4 21.41c.39.39.9.59 1.41.59.51 0 1.02-.2 1.41-.59l7.78-7.78 2.81-2.81c.8-.78.8-2.07 0-2.86zM5.41 20L4 18.59l7.72-7.72 1.47 1.35L5.41 20z\"/>\n",
              "  </svg>\n",
              "      </button>\n",
              "      \n",
              "  <style>\n",
              "    .colab-df-container {\n",
              "      display:flex;\n",
              "      flex-wrap:wrap;\n",
              "      gap: 12px;\n",
              "    }\n",
              "\n",
              "    .colab-df-convert {\n",
              "      background-color: #E8F0FE;\n",
              "      border: none;\n",
              "      border-radius: 50%;\n",
              "      cursor: pointer;\n",
              "      display: none;\n",
              "      fill: #1967D2;\n",
              "      height: 32px;\n",
              "      padding: 0 0 0 0;\n",
              "      width: 32px;\n",
              "    }\n",
              "\n",
              "    .colab-df-convert:hover {\n",
              "      background-color: #E2EBFA;\n",
              "      box-shadow: 0px 1px 2px rgba(60, 64, 67, 0.3), 0px 1px 3px 1px rgba(60, 64, 67, 0.15);\n",
              "      fill: #174EA6;\n",
              "    }\n",
              "\n",
              "    [theme=dark] .colab-df-convert {\n",
              "      background-color: #3B4455;\n",
              "      fill: #D2E3FC;\n",
              "    }\n",
              "\n",
              "    [theme=dark] .colab-df-convert:hover {\n",
              "      background-color: #434B5C;\n",
              "      box-shadow: 0px 1px 3px 1px rgba(0, 0, 0, 0.15);\n",
              "      filter: drop-shadow(0px 1px 2px rgba(0, 0, 0, 0.3));\n",
              "      fill: #FFFFFF;\n",
              "    }\n",
              "  </style>\n",
              "\n",
              "      <script>\n",
              "        const buttonEl =\n",
              "          document.querySelector('#df-e77ba27b-211c-4c55-9118-6aac59bc53d8 button.colab-df-convert');\n",
              "        buttonEl.style.display =\n",
              "          google.colab.kernel.accessAllowed ? 'block' : 'none';\n",
              "\n",
              "        async function convertToInteractive(key) {\n",
              "          const element = document.querySelector('#df-e77ba27b-211c-4c55-9118-6aac59bc53d8');\n",
              "          const dataTable =\n",
              "            await google.colab.kernel.invokeFunction('convertToInteractive',\n",
              "                                                     [key], {});\n",
              "          if (!dataTable) return;\n",
              "\n",
              "          const docLinkHtml = 'Like what you see? Visit the ' +\n",
              "            '<a target=\"_blank\" href=https://colab.research.google.com/notebooks/data_table.ipynb>data table notebook</a>'\n",
              "            + ' to learn more about interactive tables.';\n",
              "          element.innerHTML = '';\n",
              "          dataTable['output_type'] = 'display_data';\n",
              "          await google.colab.output.renderOutput(dataTable, element);\n",
              "          const docLink = document.createElement('div');\n",
              "          docLink.innerHTML = docLinkHtml;\n",
              "          element.appendChild(docLink);\n",
              "        }\n",
              "      </script>\n",
              "    </div>\n",
              "  </div>\n",
              "  "
            ]
          },
          "metadata": {},
          "execution_count": 65
        }
      ]
    },
    {
      "cell_type": "code",
      "source": [
        "import matplotlib.pyplot as plt\n",
        "x = np.arange(len(s1))\n",
        "plt.figure(figsize=(10,5))\n",
        "plt.bar(x+0.2, result['Train r2_score'], color ='blue',width = 0.4)\n",
        "plt.bar(x-0.2, result['Test r2_score'], color ='red',width = 0.4)\n",
        "plt.xticks(x, result.Regressors.values.tolist())\n",
        "plt.xticks(rotation=90)\n",
        "plt.legend(['Train r2_score','Test r2_score'])\n",
        "plt.title('Models vs r2_score', fontsize = 20)\n",
        "plt.xlabel('Models', fontsize = 15)\n",
        "plt.ylabel('r2_score', fontsize = 15)\n",
        "plt.grid()\n",
        "plt.show()"
      ],
      "metadata": {
        "colab": {
          "base_uri": "https://localhost:8080/",
          "height": 401
        },
        "id": "GdKLMA62R9Ai",
        "outputId": "f792b12b-c024-43fb-efb9-061f408368a5"
      },
      "execution_count": null,
      "outputs": [
        {
          "output_type": "display_data",
          "data": {
            "text/plain": [
              "<Figure size 720x360 with 1 Axes>"
            ],
            "image/png": "[encoded data removed]"
          },
          "metadata": {
            "needs_background": "light"
          }
        }
      ]
    },
    {
      "cell_type": "code",
      "source": [
        "plt.bar(x, result['Test r2_score'], color ='green',width = 0.4)\n",
        "plt.xticks(x, result.Regressors.values.tolist())\n",
        "plt.legend(['Test r2_score'])\n",
        "plt.xticks(rotation=90)\n",
        "plt.grid()\n",
        "plt.show()"
      ],
      "metadata": {
        "id": "HRPK7qfsR-Fv",
        "colab": {
          "base_uri": "https://localhost:8080/",
          "height": 307
        },
        "outputId": "1905803c-7950-469e-efe0-ea31599080e9"
      },
      "execution_count": null,
      "outputs": [
        {
          "output_type": "display_data",
          "data": {
            "text/plain": [
              "<Figure size 432x288 with 1 Axes>"
            ],
            "image/png": "[encoded data removed]"
          },
          "metadata": {
            "needs_background": "light"
          }
        }
      ]
    },
    {
      "cell_type": "code",
      "source": [],
      "metadata": {
        "id": "eeBc_3KwoU-Q"
      },
      "execution_count": null,
      "outputs": []
    }
  ]
}